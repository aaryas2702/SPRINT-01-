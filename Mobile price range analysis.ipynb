{
 "cells": [
  {
   "cell_type": "markdown",
   "id": "a5cdc67c-b29a-4c67-9211-2f740d54db13",
   "metadata": {},
   "source": [
    "***TITLE-MOBILE PRICE RANGE ANALYSIS***"
   ]
  },
  {
   "cell_type": "markdown",
   "id": "c554f402-488f-4911-864b-74cf5377f298",
   "metadata": {},
   "source": [
    "***DATA ANALYSED BY - AARYA SHARMA***"
   ]
  },
  {
   "cell_type": "markdown",
   "id": "2c4e3c13-8bee-4b5b-ac97-c57257f36cc1",
   "metadata": {},
   "source": [
    "**Problem Statement:**\n"
   ]
  },
  {
   "cell_type": "markdown",
   "id": "800f2c80-e839-468e-91dc-5b3adbb6ef54",
   "metadata": {},
   "source": [
    "In the competitive mobile phone market, understanding how various\n",
    "features and specifications influence the pricing of mobile devices is crucial for manufacturers and consumers alike."
   ]
  },
  {
   "cell_type": "markdown",
   "id": "bb82c7c8-cd43-44b0-8c67-29bf7642d1b1",
   "metadata": {},
   "source": [
    "**OBJECTIVE-**"
   ]
  },
  {
   "cell_type": "markdown",
   "id": "6bf285ab-f6ee-4c73-979f-fff57a27b165",
   "metadata": {},
   "source": [
    "Analyzing mobile price range data can serve several important purposes:\n",
    "\n",
    "Market Understanding: It helps understand the distribution of mobile phone prices and the market segments that different price ranges represent. \n",
    "                      This information is useful for identifying trends and preferences among consumers.\n",
    "                          \n",
    "Product Positioning:   Manufacturers and retailers can use this analysis to determine where to position their products in the market.\n",
    "                       For example, identifying a gap in a specific price range can help in designing and pricing new models.\n",
    "                          \n",
    "Competitive Analysis:  Companies can gauge their competitive standing by analyzing the pricing of various mobile phones. \n",
    "                       This involves understanding how their products compare in terms of features and pricing against competitors.\n",
    "                          \n",
    "Sales Strategy:        It aids in developing effective sales strategies by identifying which price ranges are more attractive to consumers.\n",
    "                       This can help in targeting marketing efforts and promotions more effectively.\n",
    "                          \n",
    "Price Prediction:      For businesses and investors, predictive analysis of mobile phone prices can forecast future trends and guide decisions \n",
    "                       related to investments, inventory management, and product development.\n",
    "                          \n",
    "Consumer Behavior:     Understanding how different features and price ranges influence consumer choices can provide valuable insights\n",
    "                       for improving product offerings and tailoring marketing strategies."
   ]
  },
  {
   "cell_type": "markdown",
   "id": "291e22f8-26a0-4128-ae15-631fe8c049e5",
   "metadata": {},
   "source": [
    "# STEP- 1:-"
   ]
  },
  {
   "cell_type": "markdown",
   "id": "88f036a0-8e57-466a-a77b-e4aa041504a4",
   "metadata": {},
   "source": [
    "# Import Libraries"
   ]
  },
  {
   "cell_type": "code",
   "execution_count": 4,
   "id": "08dac1f6-89cb-41ab-bea8-2dacf83d23a2",
   "metadata": {},
   "outputs": [],
   "source": [
    "import pandas as pd\n",
    "import numpy as np\n",
    "import matplotlib.pyplot as plt\n"
   ]
  },
  {
   "cell_type": "markdown",
   "id": "3001adfc-c0f0-45a2-820c-272550301288",
   "metadata": {},
   "source": [
    "***Insights:- Imported all the necessary packages***"
   ]
  },
  {
   "cell_type": "markdown",
   "id": "a1b478f5-01c0-44d8-a6ae-4710d1ff0793",
   "metadata": {},
   "source": [
    "# Step 2: Load Dataset"
   ]
  },
  {
   "cell_type": "code",
   "execution_count": 7,
   "id": "7c85b96f-7149-44be-904a-3eca11693c78",
   "metadata": {},
   "outputs": [],
   "source": [
    "# Read the CSV file\n",
    "df = pd.read_csv(r\"C:\\Users\\dell\\OneDrive\\train.csv\")"
   ]
  },
  {
   "cell_type": "code",
   "execution_count": 8,
   "id": "83c6d447-3eac-474c-bf82-37126bfa7fcb",
   "metadata": {},
   "outputs": [
    {
     "data": {
      "text/html": [
       "<div>\n",
       "<style scoped>\n",
       "    .dataframe tbody tr th:only-of-type {\n",
       "        vertical-align: middle;\n",
       "    }\n",
       "\n",
       "    .dataframe tbody tr th {\n",
       "        vertical-align: top;\n",
       "    }\n",
       "\n",
       "    .dataframe thead th {\n",
       "        text-align: right;\n",
       "    }\n",
       "</style>\n",
       "<table border=\"1\" class=\"dataframe\">\n",
       "  <thead>\n",
       "    <tr style=\"text-align: right;\">\n",
       "      <th></th>\n",
       "      <th>battery_power</th>\n",
       "      <th>blue</th>\n",
       "      <th>clock_speed</th>\n",
       "      <th>dual_sim</th>\n",
       "      <th>fc</th>\n",
       "      <th>four_g</th>\n",
       "      <th>int_memory</th>\n",
       "      <th>m_dep</th>\n",
       "      <th>mobile_wt</th>\n",
       "      <th>n_cores</th>\n",
       "      <th>...</th>\n",
       "      <th>px_height</th>\n",
       "      <th>px_width</th>\n",
       "      <th>ram</th>\n",
       "      <th>sc_h</th>\n",
       "      <th>sc_w</th>\n",
       "      <th>talk_time</th>\n",
       "      <th>three_g</th>\n",
       "      <th>touch_screen</th>\n",
       "      <th>wifi</th>\n",
       "      <th>price_range</th>\n",
       "    </tr>\n",
       "  </thead>\n",
       "  <tbody>\n",
       "    <tr>\n",
       "      <th>count</th>\n",
       "      <td>2000.000000</td>\n",
       "      <td>2000.0000</td>\n",
       "      <td>2000.000000</td>\n",
       "      <td>2000.000000</td>\n",
       "      <td>2000.000000</td>\n",
       "      <td>2000.000000</td>\n",
       "      <td>2000.000000</td>\n",
       "      <td>2000.000000</td>\n",
       "      <td>2000.000000</td>\n",
       "      <td>2000.000000</td>\n",
       "      <td>...</td>\n",
       "      <td>2000.000000</td>\n",
       "      <td>2000.000000</td>\n",
       "      <td>2000.000000</td>\n",
       "      <td>2000.000000</td>\n",
       "      <td>2000.000000</td>\n",
       "      <td>2000.000000</td>\n",
       "      <td>2000.000000</td>\n",
       "      <td>2000.000000</td>\n",
       "      <td>2000.000000</td>\n",
       "      <td>2000.000000</td>\n",
       "    </tr>\n",
       "    <tr>\n",
       "      <th>mean</th>\n",
       "      <td>1238.518500</td>\n",
       "      <td>0.4950</td>\n",
       "      <td>1.522250</td>\n",
       "      <td>0.509500</td>\n",
       "      <td>4.309500</td>\n",
       "      <td>0.521500</td>\n",
       "      <td>32.046500</td>\n",
       "      <td>0.501750</td>\n",
       "      <td>140.249000</td>\n",
       "      <td>4.520500</td>\n",
       "      <td>...</td>\n",
       "      <td>645.108000</td>\n",
       "      <td>1251.515500</td>\n",
       "      <td>2124.213000</td>\n",
       "      <td>12.306500</td>\n",
       "      <td>5.767000</td>\n",
       "      <td>11.011000</td>\n",
       "      <td>0.761500</td>\n",
       "      <td>0.503000</td>\n",
       "      <td>0.507000</td>\n",
       "      <td>1.500000</td>\n",
       "    </tr>\n",
       "    <tr>\n",
       "      <th>std</th>\n",
       "      <td>439.418206</td>\n",
       "      <td>0.5001</td>\n",
       "      <td>0.816004</td>\n",
       "      <td>0.500035</td>\n",
       "      <td>4.341444</td>\n",
       "      <td>0.499662</td>\n",
       "      <td>18.145715</td>\n",
       "      <td>0.288416</td>\n",
       "      <td>35.399655</td>\n",
       "      <td>2.287837</td>\n",
       "      <td>...</td>\n",
       "      <td>443.780811</td>\n",
       "      <td>432.199447</td>\n",
       "      <td>1084.732044</td>\n",
       "      <td>4.213245</td>\n",
       "      <td>4.356398</td>\n",
       "      <td>5.463955</td>\n",
       "      <td>0.426273</td>\n",
       "      <td>0.500116</td>\n",
       "      <td>0.500076</td>\n",
       "      <td>1.118314</td>\n",
       "    </tr>\n",
       "    <tr>\n",
       "      <th>min</th>\n",
       "      <td>501.000000</td>\n",
       "      <td>0.0000</td>\n",
       "      <td>0.500000</td>\n",
       "      <td>0.000000</td>\n",
       "      <td>0.000000</td>\n",
       "      <td>0.000000</td>\n",
       "      <td>2.000000</td>\n",
       "      <td>0.100000</td>\n",
       "      <td>80.000000</td>\n",
       "      <td>1.000000</td>\n",
       "      <td>...</td>\n",
       "      <td>0.000000</td>\n",
       "      <td>500.000000</td>\n",
       "      <td>256.000000</td>\n",
       "      <td>5.000000</td>\n",
       "      <td>0.000000</td>\n",
       "      <td>2.000000</td>\n",
       "      <td>0.000000</td>\n",
       "      <td>0.000000</td>\n",
       "      <td>0.000000</td>\n",
       "      <td>0.000000</td>\n",
       "    </tr>\n",
       "    <tr>\n",
       "      <th>25%</th>\n",
       "      <td>851.750000</td>\n",
       "      <td>0.0000</td>\n",
       "      <td>0.700000</td>\n",
       "      <td>0.000000</td>\n",
       "      <td>1.000000</td>\n",
       "      <td>0.000000</td>\n",
       "      <td>16.000000</td>\n",
       "      <td>0.200000</td>\n",
       "      <td>109.000000</td>\n",
       "      <td>3.000000</td>\n",
       "      <td>...</td>\n",
       "      <td>282.750000</td>\n",
       "      <td>874.750000</td>\n",
       "      <td>1207.500000</td>\n",
       "      <td>9.000000</td>\n",
       "      <td>2.000000</td>\n",
       "      <td>6.000000</td>\n",
       "      <td>1.000000</td>\n",
       "      <td>0.000000</td>\n",
       "      <td>0.000000</td>\n",
       "      <td>0.750000</td>\n",
       "    </tr>\n",
       "    <tr>\n",
       "      <th>50%</th>\n",
       "      <td>1226.000000</td>\n",
       "      <td>0.0000</td>\n",
       "      <td>1.500000</td>\n",
       "      <td>1.000000</td>\n",
       "      <td>3.000000</td>\n",
       "      <td>1.000000</td>\n",
       "      <td>32.000000</td>\n",
       "      <td>0.500000</td>\n",
       "      <td>141.000000</td>\n",
       "      <td>4.000000</td>\n",
       "      <td>...</td>\n",
       "      <td>564.000000</td>\n",
       "      <td>1247.000000</td>\n",
       "      <td>2146.500000</td>\n",
       "      <td>12.000000</td>\n",
       "      <td>5.000000</td>\n",
       "      <td>11.000000</td>\n",
       "      <td>1.000000</td>\n",
       "      <td>1.000000</td>\n",
       "      <td>1.000000</td>\n",
       "      <td>1.500000</td>\n",
       "    </tr>\n",
       "    <tr>\n",
       "      <th>75%</th>\n",
       "      <td>1615.250000</td>\n",
       "      <td>1.0000</td>\n",
       "      <td>2.200000</td>\n",
       "      <td>1.000000</td>\n",
       "      <td>7.000000</td>\n",
       "      <td>1.000000</td>\n",
       "      <td>48.000000</td>\n",
       "      <td>0.800000</td>\n",
       "      <td>170.000000</td>\n",
       "      <td>7.000000</td>\n",
       "      <td>...</td>\n",
       "      <td>947.250000</td>\n",
       "      <td>1633.000000</td>\n",
       "      <td>3064.500000</td>\n",
       "      <td>16.000000</td>\n",
       "      <td>9.000000</td>\n",
       "      <td>16.000000</td>\n",
       "      <td>1.000000</td>\n",
       "      <td>1.000000</td>\n",
       "      <td>1.000000</td>\n",
       "      <td>2.250000</td>\n",
       "    </tr>\n",
       "    <tr>\n",
       "      <th>max</th>\n",
       "      <td>1998.000000</td>\n",
       "      <td>1.0000</td>\n",
       "      <td>3.000000</td>\n",
       "      <td>1.000000</td>\n",
       "      <td>19.000000</td>\n",
       "      <td>1.000000</td>\n",
       "      <td>64.000000</td>\n",
       "      <td>1.000000</td>\n",
       "      <td>200.000000</td>\n",
       "      <td>8.000000</td>\n",
       "      <td>...</td>\n",
       "      <td>1960.000000</td>\n",
       "      <td>1998.000000</td>\n",
       "      <td>3998.000000</td>\n",
       "      <td>19.000000</td>\n",
       "      <td>18.000000</td>\n",
       "      <td>20.000000</td>\n",
       "      <td>1.000000</td>\n",
       "      <td>1.000000</td>\n",
       "      <td>1.000000</td>\n",
       "      <td>3.000000</td>\n",
       "    </tr>\n",
       "  </tbody>\n",
       "</table>\n",
       "<p>8 rows × 21 columns</p>\n",
       "</div>"
      ],
      "text/plain": [
       "       battery_power       blue  clock_speed     dual_sim           fc  \\\n",
       "count    2000.000000  2000.0000  2000.000000  2000.000000  2000.000000   \n",
       "mean     1238.518500     0.4950     1.522250     0.509500     4.309500   \n",
       "std       439.418206     0.5001     0.816004     0.500035     4.341444   \n",
       "min       501.000000     0.0000     0.500000     0.000000     0.000000   \n",
       "25%       851.750000     0.0000     0.700000     0.000000     1.000000   \n",
       "50%      1226.000000     0.0000     1.500000     1.000000     3.000000   \n",
       "75%      1615.250000     1.0000     2.200000     1.000000     7.000000   \n",
       "max      1998.000000     1.0000     3.000000     1.000000    19.000000   \n",
       "\n",
       "            four_g   int_memory        m_dep    mobile_wt      n_cores  ...  \\\n",
       "count  2000.000000  2000.000000  2000.000000  2000.000000  2000.000000  ...   \n",
       "mean      0.521500    32.046500     0.501750   140.249000     4.520500  ...   \n",
       "std       0.499662    18.145715     0.288416    35.399655     2.287837  ...   \n",
       "min       0.000000     2.000000     0.100000    80.000000     1.000000  ...   \n",
       "25%       0.000000    16.000000     0.200000   109.000000     3.000000  ...   \n",
       "50%       1.000000    32.000000     0.500000   141.000000     4.000000  ...   \n",
       "75%       1.000000    48.000000     0.800000   170.000000     7.000000  ...   \n",
       "max       1.000000    64.000000     1.000000   200.000000     8.000000  ...   \n",
       "\n",
       "         px_height     px_width          ram         sc_h         sc_w  \\\n",
       "count  2000.000000  2000.000000  2000.000000  2000.000000  2000.000000   \n",
       "mean    645.108000  1251.515500  2124.213000    12.306500     5.767000   \n",
       "std     443.780811   432.199447  1084.732044     4.213245     4.356398   \n",
       "min       0.000000   500.000000   256.000000     5.000000     0.000000   \n",
       "25%     282.750000   874.750000  1207.500000     9.000000     2.000000   \n",
       "50%     564.000000  1247.000000  2146.500000    12.000000     5.000000   \n",
       "75%     947.250000  1633.000000  3064.500000    16.000000     9.000000   \n",
       "max    1960.000000  1998.000000  3998.000000    19.000000    18.000000   \n",
       "\n",
       "         talk_time      three_g  touch_screen         wifi  price_range  \n",
       "count  2000.000000  2000.000000   2000.000000  2000.000000  2000.000000  \n",
       "mean     11.011000     0.761500      0.503000     0.507000     1.500000  \n",
       "std       5.463955     0.426273      0.500116     0.500076     1.118314  \n",
       "min       2.000000     0.000000      0.000000     0.000000     0.000000  \n",
       "25%       6.000000     1.000000      0.000000     0.000000     0.750000  \n",
       "50%      11.000000     1.000000      1.000000     1.000000     1.500000  \n",
       "75%      16.000000     1.000000      1.000000     1.000000     2.250000  \n",
       "max      20.000000     1.000000      1.000000     1.000000     3.000000  \n",
       "\n",
       "[8 rows x 21 columns]"
      ]
     },
     "execution_count": 8,
     "metadata": {},
     "output_type": "execute_result"
    }
   ],
   "source": [
    "df.describe()"
   ]
  },
  {
   "cell_type": "markdown",
   "id": "d68a2ec7-0e7a-4c52-b2e7-abe76af9d4d1",
   "metadata": {},
   "source": [
    "***Insights:- Loading the dataset from Kaggle website*** "
   ]
  },
  {
   "cell_type": "markdown",
   "id": "b517a375-587c-4b18-a440-1374c5e42afd",
   "metadata": {},
   "source": [
    "# Step 3: Data Cleaning\n"
   ]
  },
  {
   "cell_type": "markdown",
   "id": "95298d31-582b-4559-aa7b-e83dfd31d620",
   "metadata": {},
   "source": [
    "Data cleaning, also known as data cleansing, is the process of identifying and correcting (or removing) inaccuracies, inconsistencies\n",
    "and errors in a dataset to ensure its quality and reliability. This involves several key tasks:\n",
    "\n",
    "1. Standardizing Data: Ensuring consistency in data formats, units, and naming conventions to make the dataset uniform.\n",
    "    \n",
    "2. Validating Data: Ensuring that the data adheres to predefined rules and constraints, such as ranges or formats.\n",
    "\n",
    "3. Handling Missing Values: Addressing gaps in the data, either by filling in missing values, using imputation methods, or removing\n",
    "                            records with missing information.\n",
    "4. Removing Duplicates: Identifying and eliminating duplicate records to avoid redundancy and confusion.\n",
    "\n",
    "5. Transforming Data: Converting data into a suitable format or structure for analysis, such as normalizing values or aggregating information.\n",
    "\n",
    "6. Filtering Outliers: Identifying and addressing data points that deviate significantly from the norm, which might indicate errors or anomalies.\n",
    "Effective data cleaning is crucial for maintaining the accuracy and integrity of the data, which in turn impacts the reliability of any analyses or insights derived from it."
   ]
  },
  {
   "cell_type": "markdown",
   "id": "57103b5c-7073-4734-b2d3-b5473bfa8fc1",
   "metadata": {},
   "source": [
    "# Standardizing Data"
   ]
  },
  {
   "cell_type": "code",
   "execution_count": 11,
   "id": "0056b1f3-3204-42b1-a2a6-3181a2a22e0c",
   "metadata": {},
   "outputs": [
    {
     "data": {
      "text/html": [
       "<div>\n",
       "<style scoped>\n",
       "    .dataframe tbody tr th:only-of-type {\n",
       "        vertical-align: middle;\n",
       "    }\n",
       "\n",
       "    .dataframe tbody tr th {\n",
       "        vertical-align: top;\n",
       "    }\n",
       "\n",
       "    .dataframe thead th {\n",
       "        text-align: right;\n",
       "    }\n",
       "</style>\n",
       "<table border=\"1\" class=\"dataframe\">\n",
       "  <thead>\n",
       "    <tr style=\"text-align: right;\">\n",
       "      <th></th>\n",
       "      <th>battery_power</th>\n",
       "      <th>blue</th>\n",
       "      <th>clock_speed</th>\n",
       "      <th>dual_sim</th>\n",
       "      <th>fc</th>\n",
       "      <th>four_g</th>\n",
       "      <th>int_memory</th>\n",
       "      <th>m_dep</th>\n",
       "      <th>mobile_wt</th>\n",
       "      <th>n_cores</th>\n",
       "      <th>...</th>\n",
       "      <th>px_height</th>\n",
       "      <th>px_width</th>\n",
       "      <th>ram</th>\n",
       "      <th>sc_h</th>\n",
       "      <th>sc_w</th>\n",
       "      <th>talk_time</th>\n",
       "      <th>three_g</th>\n",
       "      <th>touch_screen</th>\n",
       "      <th>wifi</th>\n",
       "      <th>price_range</th>\n",
       "    </tr>\n",
       "  </thead>\n",
       "  <tbody>\n",
       "    <tr>\n",
       "      <th>0</th>\n",
       "      <td>842</td>\n",
       "      <td>0</td>\n",
       "      <td>2.2</td>\n",
       "      <td>0</td>\n",
       "      <td>1</td>\n",
       "      <td>0</td>\n",
       "      <td>7</td>\n",
       "      <td>0.6</td>\n",
       "      <td>188.0</td>\n",
       "      <td>2</td>\n",
       "      <td>...</td>\n",
       "      <td>20.0</td>\n",
       "      <td>756.0</td>\n",
       "      <td>2549</td>\n",
       "      <td>9</td>\n",
       "      <td>7</td>\n",
       "      <td>19</td>\n",
       "      <td>0</td>\n",
       "      <td>0</td>\n",
       "      <td>1</td>\n",
       "      <td>1</td>\n",
       "    </tr>\n",
       "    <tr>\n",
       "      <th>1</th>\n",
       "      <td>1021</td>\n",
       "      <td>1</td>\n",
       "      <td>0.5</td>\n",
       "      <td>1</td>\n",
       "      <td>0</td>\n",
       "      <td>1</td>\n",
       "      <td>53</td>\n",
       "      <td>0.7</td>\n",
       "      <td>136.0</td>\n",
       "      <td>3</td>\n",
       "      <td>...</td>\n",
       "      <td>905.0</td>\n",
       "      <td>1988.0</td>\n",
       "      <td>2631</td>\n",
       "      <td>17</td>\n",
       "      <td>3</td>\n",
       "      <td>7</td>\n",
       "      <td>1</td>\n",
       "      <td>1</td>\n",
       "      <td>0</td>\n",
       "      <td>2</td>\n",
       "    </tr>\n",
       "    <tr>\n",
       "      <th>2</th>\n",
       "      <td>563</td>\n",
       "      <td>1</td>\n",
       "      <td>0.5</td>\n",
       "      <td>1</td>\n",
       "      <td>2</td>\n",
       "      <td>1</td>\n",
       "      <td>41</td>\n",
       "      <td>0.9</td>\n",
       "      <td>145.0</td>\n",
       "      <td>5</td>\n",
       "      <td>...</td>\n",
       "      <td>1263.0</td>\n",
       "      <td>1716.0</td>\n",
       "      <td>2603</td>\n",
       "      <td>11</td>\n",
       "      <td>2</td>\n",
       "      <td>9</td>\n",
       "      <td>1</td>\n",
       "      <td>1</td>\n",
       "      <td>0</td>\n",
       "      <td>2</td>\n",
       "    </tr>\n",
       "    <tr>\n",
       "      <th>3</th>\n",
       "      <td>615</td>\n",
       "      <td>1</td>\n",
       "      <td>2.5</td>\n",
       "      <td>0</td>\n",
       "      <td>0</td>\n",
       "      <td>0</td>\n",
       "      <td>10</td>\n",
       "      <td>0.8</td>\n",
       "      <td>131.0</td>\n",
       "      <td>6</td>\n",
       "      <td>...</td>\n",
       "      <td>1216.0</td>\n",
       "      <td>1786.0</td>\n",
       "      <td>2769</td>\n",
       "      <td>16</td>\n",
       "      <td>8</td>\n",
       "      <td>11</td>\n",
       "      <td>1</td>\n",
       "      <td>0</td>\n",
       "      <td>0</td>\n",
       "      <td>2</td>\n",
       "    </tr>\n",
       "    <tr>\n",
       "      <th>4</th>\n",
       "      <td>1821</td>\n",
       "      <td>1</td>\n",
       "      <td>1.2</td>\n",
       "      <td>0</td>\n",
       "      <td>13</td>\n",
       "      <td>1</td>\n",
       "      <td>44</td>\n",
       "      <td>0.6</td>\n",
       "      <td>141.0</td>\n",
       "      <td>2</td>\n",
       "      <td>...</td>\n",
       "      <td>1208.0</td>\n",
       "      <td>1212.0</td>\n",
       "      <td>1411</td>\n",
       "      <td>8</td>\n",
       "      <td>2</td>\n",
       "      <td>15</td>\n",
       "      <td>1</td>\n",
       "      <td>1</td>\n",
       "      <td>0</td>\n",
       "      <td>1</td>\n",
       "    </tr>\n",
       "    <tr>\n",
       "      <th>...</th>\n",
       "      <td>...</td>\n",
       "      <td>...</td>\n",
       "      <td>...</td>\n",
       "      <td>...</td>\n",
       "      <td>...</td>\n",
       "      <td>...</td>\n",
       "      <td>...</td>\n",
       "      <td>...</td>\n",
       "      <td>...</td>\n",
       "      <td>...</td>\n",
       "      <td>...</td>\n",
       "      <td>...</td>\n",
       "      <td>...</td>\n",
       "      <td>...</td>\n",
       "      <td>...</td>\n",
       "      <td>...</td>\n",
       "      <td>...</td>\n",
       "      <td>...</td>\n",
       "      <td>...</td>\n",
       "      <td>...</td>\n",
       "      <td>...</td>\n",
       "    </tr>\n",
       "    <tr>\n",
       "      <th>1995</th>\n",
       "      <td>794</td>\n",
       "      <td>1</td>\n",
       "      <td>0.5</td>\n",
       "      <td>1</td>\n",
       "      <td>0</td>\n",
       "      <td>1</td>\n",
       "      <td>2</td>\n",
       "      <td>0.8</td>\n",
       "      <td>106.0</td>\n",
       "      <td>6</td>\n",
       "      <td>...</td>\n",
       "      <td>1222.0</td>\n",
       "      <td>1890.0</td>\n",
       "      <td>668</td>\n",
       "      <td>13</td>\n",
       "      <td>4</td>\n",
       "      <td>19</td>\n",
       "      <td>1</td>\n",
       "      <td>1</td>\n",
       "      <td>0</td>\n",
       "      <td>0</td>\n",
       "    </tr>\n",
       "    <tr>\n",
       "      <th>1996</th>\n",
       "      <td>1965</td>\n",
       "      <td>1</td>\n",
       "      <td>2.6</td>\n",
       "      <td>1</td>\n",
       "      <td>0</td>\n",
       "      <td>0</td>\n",
       "      <td>39</td>\n",
       "      <td>0.2</td>\n",
       "      <td>187.0</td>\n",
       "      <td>4</td>\n",
       "      <td>...</td>\n",
       "      <td>915.0</td>\n",
       "      <td>1965.0</td>\n",
       "      <td>2032</td>\n",
       "      <td>11</td>\n",
       "      <td>10</td>\n",
       "      <td>16</td>\n",
       "      <td>1</td>\n",
       "      <td>1</td>\n",
       "      <td>1</td>\n",
       "      <td>2</td>\n",
       "    </tr>\n",
       "    <tr>\n",
       "      <th>1997</th>\n",
       "      <td>1911</td>\n",
       "      <td>0</td>\n",
       "      <td>0.9</td>\n",
       "      <td>1</td>\n",
       "      <td>1</td>\n",
       "      <td>1</td>\n",
       "      <td>36</td>\n",
       "      <td>0.7</td>\n",
       "      <td>108.0</td>\n",
       "      <td>8</td>\n",
       "      <td>...</td>\n",
       "      <td>868.0</td>\n",
       "      <td>1632.0</td>\n",
       "      <td>3057</td>\n",
       "      <td>9</td>\n",
       "      <td>1</td>\n",
       "      <td>5</td>\n",
       "      <td>1</td>\n",
       "      <td>1</td>\n",
       "      <td>0</td>\n",
       "      <td>3</td>\n",
       "    </tr>\n",
       "    <tr>\n",
       "      <th>1998</th>\n",
       "      <td>1512</td>\n",
       "      <td>0</td>\n",
       "      <td>0.9</td>\n",
       "      <td>0</td>\n",
       "      <td>4</td>\n",
       "      <td>1</td>\n",
       "      <td>46</td>\n",
       "      <td>0.1</td>\n",
       "      <td>145.0</td>\n",
       "      <td>5</td>\n",
       "      <td>...</td>\n",
       "      <td>336.0</td>\n",
       "      <td>670.0</td>\n",
       "      <td>869</td>\n",
       "      <td>18</td>\n",
       "      <td>10</td>\n",
       "      <td>19</td>\n",
       "      <td>1</td>\n",
       "      <td>1</td>\n",
       "      <td>1</td>\n",
       "      <td>0</td>\n",
       "    </tr>\n",
       "    <tr>\n",
       "      <th>1999</th>\n",
       "      <td>510</td>\n",
       "      <td>1</td>\n",
       "      <td>2.0</td>\n",
       "      <td>1</td>\n",
       "      <td>5</td>\n",
       "      <td>1</td>\n",
       "      <td>45</td>\n",
       "      <td>0.9</td>\n",
       "      <td>168.0</td>\n",
       "      <td>6</td>\n",
       "      <td>...</td>\n",
       "      <td>483.0</td>\n",
       "      <td>754.0</td>\n",
       "      <td>3919</td>\n",
       "      <td>19</td>\n",
       "      <td>4</td>\n",
       "      <td>2</td>\n",
       "      <td>1</td>\n",
       "      <td>1</td>\n",
       "      <td>1</td>\n",
       "      <td>3</td>\n",
       "    </tr>\n",
       "  </tbody>\n",
       "</table>\n",
       "<p>2000 rows × 21 columns</p>\n",
       "</div>"
      ],
      "text/plain": [
       "      battery_power  blue  clock_speed  dual_sim  fc  four_g  int_memory  \\\n",
       "0               842     0          2.2         0   1       0           7   \n",
       "1              1021     1          0.5         1   0       1          53   \n",
       "2               563     1          0.5         1   2       1          41   \n",
       "3               615     1          2.5         0   0       0          10   \n",
       "4              1821     1          1.2         0  13       1          44   \n",
       "...             ...   ...          ...       ...  ..     ...         ...   \n",
       "1995            794     1          0.5         1   0       1           2   \n",
       "1996           1965     1          2.6         1   0       0          39   \n",
       "1997           1911     0          0.9         1   1       1          36   \n",
       "1998           1512     0          0.9         0   4       1          46   \n",
       "1999            510     1          2.0         1   5       1          45   \n",
       "\n",
       "      m_dep  mobile_wt  n_cores  ...  px_height  px_width   ram  sc_h  sc_w  \\\n",
       "0       0.6      188.0        2  ...       20.0     756.0  2549     9     7   \n",
       "1       0.7      136.0        3  ...      905.0    1988.0  2631    17     3   \n",
       "2       0.9      145.0        5  ...     1263.0    1716.0  2603    11     2   \n",
       "3       0.8      131.0        6  ...     1216.0    1786.0  2769    16     8   \n",
       "4       0.6      141.0        2  ...     1208.0    1212.0  1411     8     2   \n",
       "...     ...        ...      ...  ...        ...       ...   ...   ...   ...   \n",
       "1995    0.8      106.0        6  ...     1222.0    1890.0   668    13     4   \n",
       "1996    0.2      187.0        4  ...      915.0    1965.0  2032    11    10   \n",
       "1997    0.7      108.0        8  ...      868.0    1632.0  3057     9     1   \n",
       "1998    0.1      145.0        5  ...      336.0     670.0   869    18    10   \n",
       "1999    0.9      168.0        6  ...      483.0     754.0  3919    19     4   \n",
       "\n",
       "      talk_time  three_g  touch_screen  wifi  price_range  \n",
       "0            19        0             0     1            1  \n",
       "1             7        1             1     0            2  \n",
       "2             9        1             1     0            2  \n",
       "3            11        1             0     0            2  \n",
       "4            15        1             1     0            1  \n",
       "...         ...      ...           ...   ...          ...  \n",
       "1995         19        1             1     0            0  \n",
       "1996         16        1             1     1            2  \n",
       "1997          5        1             1     0            3  \n",
       "1998         19        1             1     1            0  \n",
       "1999          2        1             1     1            3  \n",
       "\n",
       "[2000 rows x 21 columns]"
      ]
     },
     "execution_count": 11,
     "metadata": {},
     "output_type": "execute_result"
    }
   ],
   "source": [
    "import pandas as pd\n",
    "\n",
    "# Read the CSV file\n",
    "data = pd.read_csv(r\"C:\\Users\\dell\\OneDrive\\train.csv\")\n",
    "\n",
    "# Convert data types\n",
    "data['battery_power'] = data['battery_power'].astype(int)\n",
    "data['clock_speed'] = data['clock_speed'].astype(float)\n",
    "data['fc'] = data['fc'].astype(int)\n",
    "data['int_memory'] = data['int_memory'].astype(int)\n",
    "data['m_dep'] = data['m_dep'].astype(float)\n",
    "data['mobile_wt'] = data['mobile_wt'].astype(float)\n",
    "data['n_cores'] = data['n_cores'].astype(int)\n",
    "data['pc'] = data['pc'].astype(int)\n",
    "data['px_height'] = data['px_height'].astype(float)\n",
    "data['px_width'] = data['px_width'].astype(float)\n",
    "data['ram'] = data['ram'].astype(int)\n",
    "data['sc_h'] = data['sc_h'].astype(int)\n",
    "data['sc_w'] = data['sc_w'].astype(int)\n",
    "data['talk_time'] = data['talk_time'].astype(int)\n",
    "data['price_range'] = data['price_range'].astype(str)\n",
    "data"
   ]
  },
  {
   "cell_type": "markdown",
   "id": "3ffe4993-62af-4b26-adfe-106f7236ea17",
   "metadata": {},
   "source": [
    "***Insights:- Ensuring consistency in data formats, units, and naming conventions to make the dataset uniform.***"
   ]
  },
  {
   "cell_type": "markdown",
   "id": "0bb68965-bbf8-4642-a65b-1e7006b92cf7",
   "metadata": {},
   "source": [
    "# 2) Validating Data:"
   ]
  },
  {
   "cell_type": "code",
   "execution_count": 15,
   "id": "4e784e1c-63f8-4f38-8c06-9f2bea2e3d1a",
   "metadata": {
    "scrolled": true
   },
   "outputs": [
    {
     "data": {
      "text/html": [
       "<div>\n",
       "<style scoped>\n",
       "    .dataframe tbody tr th:only-of-type {\n",
       "        vertical-align: middle;\n",
       "    }\n",
       "\n",
       "    .dataframe tbody tr th {\n",
       "        vertical-align: top;\n",
       "    }\n",
       "\n",
       "    .dataframe thead th {\n",
       "        text-align: right;\n",
       "    }\n",
       "</style>\n",
       "<table border=\"1\" class=\"dataframe\">\n",
       "  <thead>\n",
       "    <tr style=\"text-align: right;\">\n",
       "      <th></th>\n",
       "      <th>battery_power</th>\n",
       "      <th>blue</th>\n",
       "      <th>clock_speed</th>\n",
       "      <th>dual_sim</th>\n",
       "      <th>fc</th>\n",
       "      <th>four_g</th>\n",
       "      <th>int_memory</th>\n",
       "      <th>m_dep</th>\n",
       "      <th>mobile_wt</th>\n",
       "      <th>n_cores</th>\n",
       "      <th>...</th>\n",
       "      <th>px_height</th>\n",
       "      <th>px_width</th>\n",
       "      <th>ram</th>\n",
       "      <th>sc_h</th>\n",
       "      <th>sc_w</th>\n",
       "      <th>talk_time</th>\n",
       "      <th>three_g</th>\n",
       "      <th>touch_screen</th>\n",
       "      <th>wifi</th>\n",
       "      <th>price_range</th>\n",
       "    </tr>\n",
       "  </thead>\n",
       "  <tbody>\n",
       "    <tr>\n",
       "      <th>0</th>\n",
       "      <td>842</td>\n",
       "      <td>False</td>\n",
       "      <td>2.2</td>\n",
       "      <td>False</td>\n",
       "      <td>1</td>\n",
       "      <td>False</td>\n",
       "      <td>7</td>\n",
       "      <td>0.6</td>\n",
       "      <td>188.0</td>\n",
       "      <td>2</td>\n",
       "      <td>...</td>\n",
       "      <td>20.0</td>\n",
       "      <td>756.0</td>\n",
       "      <td>2549</td>\n",
       "      <td>9</td>\n",
       "      <td>7</td>\n",
       "      <td>19</td>\n",
       "      <td>False</td>\n",
       "      <td>False</td>\n",
       "      <td>True</td>\n",
       "      <td>1</td>\n",
       "    </tr>\n",
       "    <tr>\n",
       "      <th>1</th>\n",
       "      <td>1021</td>\n",
       "      <td>True</td>\n",
       "      <td>0.5</td>\n",
       "      <td>True</td>\n",
       "      <td>0</td>\n",
       "      <td>True</td>\n",
       "      <td>53</td>\n",
       "      <td>0.7</td>\n",
       "      <td>136.0</td>\n",
       "      <td>3</td>\n",
       "      <td>...</td>\n",
       "      <td>905.0</td>\n",
       "      <td>1988.0</td>\n",
       "      <td>2631</td>\n",
       "      <td>17</td>\n",
       "      <td>3</td>\n",
       "      <td>7</td>\n",
       "      <td>True</td>\n",
       "      <td>True</td>\n",
       "      <td>False</td>\n",
       "      <td>2</td>\n",
       "    </tr>\n",
       "    <tr>\n",
       "      <th>2</th>\n",
       "      <td>563</td>\n",
       "      <td>True</td>\n",
       "      <td>0.5</td>\n",
       "      <td>True</td>\n",
       "      <td>2</td>\n",
       "      <td>True</td>\n",
       "      <td>41</td>\n",
       "      <td>0.9</td>\n",
       "      <td>145.0</td>\n",
       "      <td>5</td>\n",
       "      <td>...</td>\n",
       "      <td>1263.0</td>\n",
       "      <td>1716.0</td>\n",
       "      <td>2603</td>\n",
       "      <td>11</td>\n",
       "      <td>2</td>\n",
       "      <td>9</td>\n",
       "      <td>True</td>\n",
       "      <td>True</td>\n",
       "      <td>False</td>\n",
       "      <td>2</td>\n",
       "    </tr>\n",
       "    <tr>\n",
       "      <th>3</th>\n",
       "      <td>615</td>\n",
       "      <td>True</td>\n",
       "      <td>2.5</td>\n",
       "      <td>False</td>\n",
       "      <td>0</td>\n",
       "      <td>False</td>\n",
       "      <td>10</td>\n",
       "      <td>0.8</td>\n",
       "      <td>131.0</td>\n",
       "      <td>6</td>\n",
       "      <td>...</td>\n",
       "      <td>1216.0</td>\n",
       "      <td>1786.0</td>\n",
       "      <td>2769</td>\n",
       "      <td>16</td>\n",
       "      <td>8</td>\n",
       "      <td>11</td>\n",
       "      <td>True</td>\n",
       "      <td>False</td>\n",
       "      <td>False</td>\n",
       "      <td>2</td>\n",
       "    </tr>\n",
       "    <tr>\n",
       "      <th>4</th>\n",
       "      <td>1821</td>\n",
       "      <td>True</td>\n",
       "      <td>1.2</td>\n",
       "      <td>False</td>\n",
       "      <td>13</td>\n",
       "      <td>True</td>\n",
       "      <td>44</td>\n",
       "      <td>0.6</td>\n",
       "      <td>141.0</td>\n",
       "      <td>2</td>\n",
       "      <td>...</td>\n",
       "      <td>1208.0</td>\n",
       "      <td>1212.0</td>\n",
       "      <td>1411</td>\n",
       "      <td>8</td>\n",
       "      <td>2</td>\n",
       "      <td>15</td>\n",
       "      <td>True</td>\n",
       "      <td>True</td>\n",
       "      <td>False</td>\n",
       "      <td>1</td>\n",
       "    </tr>\n",
       "    <tr>\n",
       "      <th>...</th>\n",
       "      <td>...</td>\n",
       "      <td>...</td>\n",
       "      <td>...</td>\n",
       "      <td>...</td>\n",
       "      <td>...</td>\n",
       "      <td>...</td>\n",
       "      <td>...</td>\n",
       "      <td>...</td>\n",
       "      <td>...</td>\n",
       "      <td>...</td>\n",
       "      <td>...</td>\n",
       "      <td>...</td>\n",
       "      <td>...</td>\n",
       "      <td>...</td>\n",
       "      <td>...</td>\n",
       "      <td>...</td>\n",
       "      <td>...</td>\n",
       "      <td>...</td>\n",
       "      <td>...</td>\n",
       "      <td>...</td>\n",
       "      <td>...</td>\n",
       "    </tr>\n",
       "    <tr>\n",
       "      <th>1995</th>\n",
       "      <td>794</td>\n",
       "      <td>True</td>\n",
       "      <td>0.5</td>\n",
       "      <td>True</td>\n",
       "      <td>0</td>\n",
       "      <td>True</td>\n",
       "      <td>2</td>\n",
       "      <td>0.8</td>\n",
       "      <td>106.0</td>\n",
       "      <td>6</td>\n",
       "      <td>...</td>\n",
       "      <td>1222.0</td>\n",
       "      <td>1890.0</td>\n",
       "      <td>668</td>\n",
       "      <td>13</td>\n",
       "      <td>4</td>\n",
       "      <td>19</td>\n",
       "      <td>True</td>\n",
       "      <td>True</td>\n",
       "      <td>False</td>\n",
       "      <td>0</td>\n",
       "    </tr>\n",
       "    <tr>\n",
       "      <th>1996</th>\n",
       "      <td>1965</td>\n",
       "      <td>True</td>\n",
       "      <td>2.6</td>\n",
       "      <td>True</td>\n",
       "      <td>0</td>\n",
       "      <td>False</td>\n",
       "      <td>39</td>\n",
       "      <td>0.2</td>\n",
       "      <td>187.0</td>\n",
       "      <td>4</td>\n",
       "      <td>...</td>\n",
       "      <td>915.0</td>\n",
       "      <td>1965.0</td>\n",
       "      <td>2032</td>\n",
       "      <td>11</td>\n",
       "      <td>10</td>\n",
       "      <td>16</td>\n",
       "      <td>True</td>\n",
       "      <td>True</td>\n",
       "      <td>True</td>\n",
       "      <td>2</td>\n",
       "    </tr>\n",
       "    <tr>\n",
       "      <th>1997</th>\n",
       "      <td>1911</td>\n",
       "      <td>False</td>\n",
       "      <td>0.9</td>\n",
       "      <td>True</td>\n",
       "      <td>1</td>\n",
       "      <td>True</td>\n",
       "      <td>36</td>\n",
       "      <td>0.7</td>\n",
       "      <td>108.0</td>\n",
       "      <td>8</td>\n",
       "      <td>...</td>\n",
       "      <td>868.0</td>\n",
       "      <td>1632.0</td>\n",
       "      <td>3057</td>\n",
       "      <td>9</td>\n",
       "      <td>1</td>\n",
       "      <td>5</td>\n",
       "      <td>True</td>\n",
       "      <td>True</td>\n",
       "      <td>False</td>\n",
       "      <td>3</td>\n",
       "    </tr>\n",
       "    <tr>\n",
       "      <th>1998</th>\n",
       "      <td>1512</td>\n",
       "      <td>False</td>\n",
       "      <td>0.9</td>\n",
       "      <td>False</td>\n",
       "      <td>4</td>\n",
       "      <td>True</td>\n",
       "      <td>46</td>\n",
       "      <td>0.1</td>\n",
       "      <td>145.0</td>\n",
       "      <td>5</td>\n",
       "      <td>...</td>\n",
       "      <td>336.0</td>\n",
       "      <td>670.0</td>\n",
       "      <td>869</td>\n",
       "      <td>18</td>\n",
       "      <td>10</td>\n",
       "      <td>19</td>\n",
       "      <td>True</td>\n",
       "      <td>True</td>\n",
       "      <td>True</td>\n",
       "      <td>0</td>\n",
       "    </tr>\n",
       "    <tr>\n",
       "      <th>1999</th>\n",
       "      <td>510</td>\n",
       "      <td>True</td>\n",
       "      <td>2.0</td>\n",
       "      <td>True</td>\n",
       "      <td>5</td>\n",
       "      <td>True</td>\n",
       "      <td>45</td>\n",
       "      <td>0.9</td>\n",
       "      <td>168.0</td>\n",
       "      <td>6</td>\n",
       "      <td>...</td>\n",
       "      <td>483.0</td>\n",
       "      <td>754.0</td>\n",
       "      <td>3919</td>\n",
       "      <td>19</td>\n",
       "      <td>4</td>\n",
       "      <td>2</td>\n",
       "      <td>True</td>\n",
       "      <td>True</td>\n",
       "      <td>True</td>\n",
       "      <td>3</td>\n",
       "    </tr>\n",
       "  </tbody>\n",
       "</table>\n",
       "<p>2000 rows × 21 columns</p>\n",
       "</div>"
      ],
      "text/plain": [
       "      battery_power   blue  clock_speed  dual_sim  fc  four_g  int_memory  \\\n",
       "0               842  False          2.2     False   1   False           7   \n",
       "1              1021   True          0.5      True   0    True          53   \n",
       "2               563   True          0.5      True   2    True          41   \n",
       "3               615   True          2.5     False   0   False          10   \n",
       "4              1821   True          1.2     False  13    True          44   \n",
       "...             ...    ...          ...       ...  ..     ...         ...   \n",
       "1995            794   True          0.5      True   0    True           2   \n",
       "1996           1965   True          2.6      True   0   False          39   \n",
       "1997           1911  False          0.9      True   1    True          36   \n",
       "1998           1512  False          0.9     False   4    True          46   \n",
       "1999            510   True          2.0      True   5    True          45   \n",
       "\n",
       "      m_dep  mobile_wt  n_cores  ...  px_height  px_width   ram  sc_h  sc_w  \\\n",
       "0       0.6      188.0        2  ...       20.0     756.0  2549     9     7   \n",
       "1       0.7      136.0        3  ...      905.0    1988.0  2631    17     3   \n",
       "2       0.9      145.0        5  ...     1263.0    1716.0  2603    11     2   \n",
       "3       0.8      131.0        6  ...     1216.0    1786.0  2769    16     8   \n",
       "4       0.6      141.0        2  ...     1208.0    1212.0  1411     8     2   \n",
       "...     ...        ...      ...  ...        ...       ...   ...   ...   ...   \n",
       "1995    0.8      106.0        6  ...     1222.0    1890.0   668    13     4   \n",
       "1996    0.2      187.0        4  ...      915.0    1965.0  2032    11    10   \n",
       "1997    0.7      108.0        8  ...      868.0    1632.0  3057     9     1   \n",
       "1998    0.1      145.0        5  ...      336.0     670.0   869    18    10   \n",
       "1999    0.9      168.0        6  ...      483.0     754.0  3919    19     4   \n",
       "\n",
       "      talk_time  three_g  touch_screen   wifi  price_range  \n",
       "0            19    False         False   True            1  \n",
       "1             7     True          True  False            2  \n",
       "2             9     True          True  False            2  \n",
       "3            11     True         False  False            2  \n",
       "4            15     True          True  False            1  \n",
       "...         ...      ...           ...    ...          ...  \n",
       "1995         19     True          True  False            0  \n",
       "1996         16     True          True   True            2  \n",
       "1997          5     True          True  False            3  \n",
       "1998         19     True          True   True            0  \n",
       "1999          2     True          True   True            3  \n",
       "\n",
       "[2000 rows x 21 columns]"
      ]
     },
     "execution_count": 15,
     "metadata": {},
     "output_type": "execute_result"
    }
   ],
   "source": [
    "binary_columns = ['blue', 'dual_sim', 'four_g', 'three_g', 'touch_screen', 'wifi']\n",
    "data[binary_columns] = data[binary_columns].astype(bool)\n",
    "data"
   ]
  },
  {
   "cell_type": "markdown",
   "id": "70b3ab0f-fe1c-4df3-9c1d-2e6d06290fbd",
   "metadata": {},
   "source": [
    "**Insights:- converting columns to boolean** "
   ]
  },
  {
   "cell_type": "markdown",
   "id": "c97b2579-9d65-4a16-883a-b6c91dc31040",
   "metadata": {},
   "source": [
    "# Replace the values in price_range column with Low Cost, Medium,High Cost and Very High Cost."
   ]
  },
  {
   "cell_type": "code",
   "execution_count": 17,
   "id": "e9f503b5-621e-4b38-8dc2-411d58e6015b",
   "metadata": {},
   "outputs": [
    {
     "name": "stdout",
     "output_type": "stream",
     "text": [
      "      battery_power   blue  clock_speed  dual_sim  fc  four_g  int_memory  \\\n",
      "0               842  False          2.2     False   1   False           7   \n",
      "1              1021   True          0.5      True   0    True          53   \n",
      "2               563   True          0.5      True   2    True          41   \n",
      "3               615   True          2.5     False   0   False          10   \n",
      "4              1821   True          1.2     False  13    True          44   \n",
      "...             ...    ...          ...       ...  ..     ...         ...   \n",
      "1995            794   True          0.5      True   0    True           2   \n",
      "1996           1965   True          2.6      True   0   False          39   \n",
      "1997           1911  False          0.9      True   1    True          36   \n",
      "1998           1512  False          0.9     False   4    True          46   \n",
      "1999            510   True          2.0      True   5    True          45   \n",
      "\n",
      "      m_dep  mobile_wt  n_cores  ...  px_height  px_width   ram  sc_h  sc_w  \\\n",
      "0       0.6      188.0        2  ...       20.0     756.0  2549     9     7   \n",
      "1       0.7      136.0        3  ...      905.0    1988.0  2631    17     3   \n",
      "2       0.9      145.0        5  ...     1263.0    1716.0  2603    11     2   \n",
      "3       0.8      131.0        6  ...     1216.0    1786.0  2769    16     8   \n",
      "4       0.6      141.0        2  ...     1208.0    1212.0  1411     8     2   \n",
      "...     ...        ...      ...  ...        ...       ...   ...   ...   ...   \n",
      "1995    0.8      106.0        6  ...     1222.0    1890.0   668    13     4   \n",
      "1996    0.2      187.0        4  ...      915.0    1965.0  2032    11    10   \n",
      "1997    0.7      108.0        8  ...      868.0    1632.0  3057     9     1   \n",
      "1998    0.1      145.0        5  ...      336.0     670.0   869    18    10   \n",
      "1999    0.9      168.0        6  ...      483.0     754.0  3919    19     4   \n",
      "\n",
      "      talk_time  three_g  touch_screen   wifi     price_range  \n",
      "0            19    False         False   True     Medium Cost  \n",
      "1             7     True          True  False       High Cost  \n",
      "2             9     True          True  False       High Cost  \n",
      "3            11     True         False  False       High Cost  \n",
      "4            15     True          True  False     Medium Cost  \n",
      "...         ...      ...           ...    ...             ...  \n",
      "1995         19     True          True  False        low Cost  \n",
      "1996         16     True          True   True       High Cost  \n",
      "1997          5     True          True  False  Very High Cost  \n",
      "1998         19     True          True   True        low Cost  \n",
      "1999          2     True          True   True  Very High Cost  \n",
      "\n",
      "[2000 rows x 21 columns]\n"
     ]
    }
   ],
   "source": [
    "data['price_range'] = data['price_range'].replace({'0': 'low Cost', '1': 'Medium Cost' , '2': 'High Cost' ,'3' : 'Very High Cost'})\n",
    "#print the data\n",
    "#data['price_range'] = data['price_range'].astype(str)\n",
    "print(data)"
   ]
  },
  {
   "cell_type": "markdown",
   "id": "e0d8f00f-ae58-4312-9c8c-41c090b39daa",
   "metadata": {},
   "source": [
    "**Insights:- Replace the values in price range column with  Low Cost, Medium,High Cost and Very High Cost.**"
   ]
  },
  {
   "cell_type": "markdown",
   "id": "65d3cbf3-940a-4f86-8a39-22db0341c360",
   "metadata": {},
   "source": [
    "# 3) Missing Values"
   ]
  },
  {
   "cell_type": "code",
   "execution_count": 19,
   "id": "4b821138-98b5-4b8e-a119-0486d8828dc7",
   "metadata": {},
   "outputs": [
    {
     "name": "stdout",
     "output_type": "stream",
     "text": [
      "battery_power    0\n",
      "blue             0\n",
      "clock_speed      0\n",
      "dual_sim         0\n",
      "fc               0\n",
      "four_g           0\n",
      "int_memory       0\n",
      "m_dep            0\n",
      "mobile_wt        0\n",
      "n_cores          0\n",
      "pc               0\n",
      "px_height        0\n",
      "px_width         0\n",
      "ram              0\n",
      "sc_h             0\n",
      "sc_w             0\n",
      "talk_time        0\n",
      "three_g          0\n",
      "touch_screen     0\n",
      "wifi             0\n",
      "price_range      0\n",
      "dtype: int64\n"
     ]
    }
   ],
   "source": [
    "# Check for missing values\n",
    "missing_values = data.isnull().sum()\n",
    "print(missing_values)"
   ]
  },
  {
   "cell_type": "markdown",
   "id": "bb00f0f1-1e85-4ae8-89bc-37bea0fde9e2",
   "metadata": {},
   "source": [
    "**Insights:- checking the missing values** "
   ]
  },
  {
   "cell_type": "markdown",
   "id": "3812d929-2af9-4bbf-9a6a-4c521b4b67e7",
   "metadata": {},
   "source": [
    "# 4) Handling duplicate values"
   ]
  },
  {
   "cell_type": "code",
   "execution_count": 21,
   "id": "fa24da9a-b98b-4b86-aa77-02129223b470",
   "metadata": {},
   "outputs": [
    {
     "name": "stdout",
     "output_type": "stream",
     "text": [
      "Number of duplicate rows: 0\n"
     ]
    }
   ],
   "source": [
    "# Check for duplicates\n",
    "duplicates = data.duplicated().sum()\n",
    "print(f\"Number of duplicate rows: {duplicates}\")"
   ]
  },
  {
   "cell_type": "markdown",
   "id": "e9c5fa33-3cea-43d1-a459-e1364d9f3944",
   "metadata": {},
   "source": [
    "**Insights:- checking the duplicate values** "
   ]
  },
  {
   "cell_type": "markdown",
   "id": "0fc64702-f6cc-49c2-bf51-1352024caac8",
   "metadata": {},
   "source": [
    "# Save the updated DataFrame to a CSV file"
   ]
  },
  {
   "cell_type": "code",
   "execution_count": 23,
   "id": "8a4e57bd-217e-408f-bf87-c95f6ee09c63",
   "metadata": {},
   "outputs": [],
   "source": [
    "#data.to_csv('updated_data.csv', index=False)\n",
    "data.to_csv('cleaned_data1.csv', index=False)"
   ]
  },
  {
   "cell_type": "markdown",
   "id": "7b616451-391d-4a63-ad0e-fedffba2982f",
   "metadata": {},
   "source": [
    "***Insights:- Saving the updated data frame to the CSV file*** "
   ]
  },
  {
   "cell_type": "markdown",
   "id": "eeedfe55-6d5d-4615-b096-af01ac8f8b47",
   "metadata": {},
   "source": [
    "# 5) Transforming Data"
   ]
  },
  {
   "cell_type": "code",
   "execution_count": 27,
   "id": "bed28897-dd86-4b02-a28b-92993db87248",
   "metadata": {},
   "outputs": [],
   "source": [
    "data = pd.read_csv('C:/Users/dell/OneDrive/Desktop/sprint 01/updated_data.csv')\n"
   ]
  },
  {
   "cell_type": "code",
   "execution_count": 28,
   "id": "f59e6c22-0bc5-4f67-84ea-7b983d531b56",
   "metadata": {},
   "outputs": [
    {
     "data": {
      "text/html": [
       "<div>\n",
       "<style scoped>\n",
       "    .dataframe tbody tr th:only-of-type {\n",
       "        vertical-align: middle;\n",
       "    }\n",
       "\n",
       "    .dataframe tbody tr th {\n",
       "        vertical-align: top;\n",
       "    }\n",
       "\n",
       "    .dataframe thead th {\n",
       "        text-align: right;\n",
       "    }\n",
       "</style>\n",
       "<table border=\"1\" class=\"dataframe\">\n",
       "  <thead>\n",
       "    <tr style=\"text-align: right;\">\n",
       "      <th></th>\n",
       "      <th>battery_power</th>\n",
       "      <th>blue</th>\n",
       "      <th>clock_speed</th>\n",
       "      <th>dual_sim</th>\n",
       "      <th>fc</th>\n",
       "      <th>four_g</th>\n",
       "      <th>int_memory</th>\n",
       "      <th>m_dep</th>\n",
       "      <th>mobile_wt</th>\n",
       "      <th>n_cores</th>\n",
       "      <th>...</th>\n",
       "      <th>px_height</th>\n",
       "      <th>px_width</th>\n",
       "      <th>ram</th>\n",
       "      <th>sc_h</th>\n",
       "      <th>sc_w</th>\n",
       "      <th>talk_time</th>\n",
       "      <th>three_g</th>\n",
       "      <th>touch_screen</th>\n",
       "      <th>wifi</th>\n",
       "      <th>price_range</th>\n",
       "    </tr>\n",
       "  </thead>\n",
       "  <tbody>\n",
       "    <tr>\n",
       "      <th>count</th>\n",
       "      <td>2000.000000</td>\n",
       "      <td>2000.0000</td>\n",
       "      <td>2000.000000</td>\n",
       "      <td>2000.000000</td>\n",
       "      <td>2000.000000</td>\n",
       "      <td>2000.000000</td>\n",
       "      <td>2000.000000</td>\n",
       "      <td>2000.000000</td>\n",
       "      <td>2000.000000</td>\n",
       "      <td>2000.000000</td>\n",
       "      <td>...</td>\n",
       "      <td>2000.000000</td>\n",
       "      <td>2000.000000</td>\n",
       "      <td>2000.000000</td>\n",
       "      <td>2000.000000</td>\n",
       "      <td>2000.000000</td>\n",
       "      <td>2000.000000</td>\n",
       "      <td>2000.000000</td>\n",
       "      <td>2000.000000</td>\n",
       "      <td>2000.000000</td>\n",
       "      <td>2000.000000</td>\n",
       "    </tr>\n",
       "    <tr>\n",
       "      <th>mean</th>\n",
       "      <td>1238.518500</td>\n",
       "      <td>0.4950</td>\n",
       "      <td>1.522250</td>\n",
       "      <td>0.509500</td>\n",
       "      <td>4.309500</td>\n",
       "      <td>0.521500</td>\n",
       "      <td>32.046500</td>\n",
       "      <td>0.501750</td>\n",
       "      <td>140.249000</td>\n",
       "      <td>4.520500</td>\n",
       "      <td>...</td>\n",
       "      <td>645.108000</td>\n",
       "      <td>1251.515500</td>\n",
       "      <td>2124.213000</td>\n",
       "      <td>12.306500</td>\n",
       "      <td>5.767000</td>\n",
       "      <td>11.011000</td>\n",
       "      <td>0.761500</td>\n",
       "      <td>0.503000</td>\n",
       "      <td>0.507000</td>\n",
       "      <td>1.500000</td>\n",
       "    </tr>\n",
       "    <tr>\n",
       "      <th>std</th>\n",
       "      <td>439.418206</td>\n",
       "      <td>0.5001</td>\n",
       "      <td>0.816004</td>\n",
       "      <td>0.500035</td>\n",
       "      <td>4.341444</td>\n",
       "      <td>0.499662</td>\n",
       "      <td>18.145715</td>\n",
       "      <td>0.288416</td>\n",
       "      <td>35.399655</td>\n",
       "      <td>2.287837</td>\n",
       "      <td>...</td>\n",
       "      <td>443.780811</td>\n",
       "      <td>432.199447</td>\n",
       "      <td>1084.732044</td>\n",
       "      <td>4.213245</td>\n",
       "      <td>4.356398</td>\n",
       "      <td>5.463955</td>\n",
       "      <td>0.426273</td>\n",
       "      <td>0.500116</td>\n",
       "      <td>0.500076</td>\n",
       "      <td>1.118314</td>\n",
       "    </tr>\n",
       "    <tr>\n",
       "      <th>min</th>\n",
       "      <td>501.000000</td>\n",
       "      <td>0.0000</td>\n",
       "      <td>0.500000</td>\n",
       "      <td>0.000000</td>\n",
       "      <td>0.000000</td>\n",
       "      <td>0.000000</td>\n",
       "      <td>2.000000</td>\n",
       "      <td>0.100000</td>\n",
       "      <td>80.000000</td>\n",
       "      <td>1.000000</td>\n",
       "      <td>...</td>\n",
       "      <td>0.000000</td>\n",
       "      <td>500.000000</td>\n",
       "      <td>256.000000</td>\n",
       "      <td>5.000000</td>\n",
       "      <td>0.000000</td>\n",
       "      <td>2.000000</td>\n",
       "      <td>0.000000</td>\n",
       "      <td>0.000000</td>\n",
       "      <td>0.000000</td>\n",
       "      <td>0.000000</td>\n",
       "    </tr>\n",
       "    <tr>\n",
       "      <th>25%</th>\n",
       "      <td>851.750000</td>\n",
       "      <td>0.0000</td>\n",
       "      <td>0.700000</td>\n",
       "      <td>0.000000</td>\n",
       "      <td>1.000000</td>\n",
       "      <td>0.000000</td>\n",
       "      <td>16.000000</td>\n",
       "      <td>0.200000</td>\n",
       "      <td>109.000000</td>\n",
       "      <td>3.000000</td>\n",
       "      <td>...</td>\n",
       "      <td>282.750000</td>\n",
       "      <td>874.750000</td>\n",
       "      <td>1207.500000</td>\n",
       "      <td>9.000000</td>\n",
       "      <td>2.000000</td>\n",
       "      <td>6.000000</td>\n",
       "      <td>1.000000</td>\n",
       "      <td>0.000000</td>\n",
       "      <td>0.000000</td>\n",
       "      <td>0.750000</td>\n",
       "    </tr>\n",
       "    <tr>\n",
       "      <th>50%</th>\n",
       "      <td>1226.000000</td>\n",
       "      <td>0.0000</td>\n",
       "      <td>1.500000</td>\n",
       "      <td>1.000000</td>\n",
       "      <td>3.000000</td>\n",
       "      <td>1.000000</td>\n",
       "      <td>32.000000</td>\n",
       "      <td>0.500000</td>\n",
       "      <td>141.000000</td>\n",
       "      <td>4.000000</td>\n",
       "      <td>...</td>\n",
       "      <td>564.000000</td>\n",
       "      <td>1247.000000</td>\n",
       "      <td>2146.500000</td>\n",
       "      <td>12.000000</td>\n",
       "      <td>5.000000</td>\n",
       "      <td>11.000000</td>\n",
       "      <td>1.000000</td>\n",
       "      <td>1.000000</td>\n",
       "      <td>1.000000</td>\n",
       "      <td>1.500000</td>\n",
       "    </tr>\n",
       "    <tr>\n",
       "      <th>75%</th>\n",
       "      <td>1615.250000</td>\n",
       "      <td>1.0000</td>\n",
       "      <td>2.200000</td>\n",
       "      <td>1.000000</td>\n",
       "      <td>7.000000</td>\n",
       "      <td>1.000000</td>\n",
       "      <td>48.000000</td>\n",
       "      <td>0.800000</td>\n",
       "      <td>170.000000</td>\n",
       "      <td>7.000000</td>\n",
       "      <td>...</td>\n",
       "      <td>947.250000</td>\n",
       "      <td>1633.000000</td>\n",
       "      <td>3064.500000</td>\n",
       "      <td>16.000000</td>\n",
       "      <td>9.000000</td>\n",
       "      <td>16.000000</td>\n",
       "      <td>1.000000</td>\n",
       "      <td>1.000000</td>\n",
       "      <td>1.000000</td>\n",
       "      <td>2.250000</td>\n",
       "    </tr>\n",
       "    <tr>\n",
       "      <th>max</th>\n",
       "      <td>1998.000000</td>\n",
       "      <td>1.0000</td>\n",
       "      <td>3.000000</td>\n",
       "      <td>1.000000</td>\n",
       "      <td>19.000000</td>\n",
       "      <td>1.000000</td>\n",
       "      <td>64.000000</td>\n",
       "      <td>1.000000</td>\n",
       "      <td>200.000000</td>\n",
       "      <td>8.000000</td>\n",
       "      <td>...</td>\n",
       "      <td>1960.000000</td>\n",
       "      <td>1998.000000</td>\n",
       "      <td>3998.000000</td>\n",
       "      <td>19.000000</td>\n",
       "      <td>18.000000</td>\n",
       "      <td>20.000000</td>\n",
       "      <td>1.000000</td>\n",
       "      <td>1.000000</td>\n",
       "      <td>1.000000</td>\n",
       "      <td>3.000000</td>\n",
       "    </tr>\n",
       "  </tbody>\n",
       "</table>\n",
       "<p>8 rows × 21 columns</p>\n",
       "</div>"
      ],
      "text/plain": [
       "       battery_power       blue  clock_speed     dual_sim           fc  \\\n",
       "count    2000.000000  2000.0000  2000.000000  2000.000000  2000.000000   \n",
       "mean     1238.518500     0.4950     1.522250     0.509500     4.309500   \n",
       "std       439.418206     0.5001     0.816004     0.500035     4.341444   \n",
       "min       501.000000     0.0000     0.500000     0.000000     0.000000   \n",
       "25%       851.750000     0.0000     0.700000     0.000000     1.000000   \n",
       "50%      1226.000000     0.0000     1.500000     1.000000     3.000000   \n",
       "75%      1615.250000     1.0000     2.200000     1.000000     7.000000   \n",
       "max      1998.000000     1.0000     3.000000     1.000000    19.000000   \n",
       "\n",
       "            four_g   int_memory        m_dep    mobile_wt      n_cores  ...  \\\n",
       "count  2000.000000  2000.000000  2000.000000  2000.000000  2000.000000  ...   \n",
       "mean      0.521500    32.046500     0.501750   140.249000     4.520500  ...   \n",
       "std       0.499662    18.145715     0.288416    35.399655     2.287837  ...   \n",
       "min       0.000000     2.000000     0.100000    80.000000     1.000000  ...   \n",
       "25%       0.000000    16.000000     0.200000   109.000000     3.000000  ...   \n",
       "50%       1.000000    32.000000     0.500000   141.000000     4.000000  ...   \n",
       "75%       1.000000    48.000000     0.800000   170.000000     7.000000  ...   \n",
       "max       1.000000    64.000000     1.000000   200.000000     8.000000  ...   \n",
       "\n",
       "         px_height     px_width          ram         sc_h         sc_w  \\\n",
       "count  2000.000000  2000.000000  2000.000000  2000.000000  2000.000000   \n",
       "mean    645.108000  1251.515500  2124.213000    12.306500     5.767000   \n",
       "std     443.780811   432.199447  1084.732044     4.213245     4.356398   \n",
       "min       0.000000   500.000000   256.000000     5.000000     0.000000   \n",
       "25%     282.750000   874.750000  1207.500000     9.000000     2.000000   \n",
       "50%     564.000000  1247.000000  2146.500000    12.000000     5.000000   \n",
       "75%     947.250000  1633.000000  3064.500000    16.000000     9.000000   \n",
       "max    1960.000000  1998.000000  3998.000000    19.000000    18.000000   \n",
       "\n",
       "         talk_time      three_g  touch_screen         wifi  price_range  \n",
       "count  2000.000000  2000.000000   2000.000000  2000.000000  2000.000000  \n",
       "mean     11.011000     0.761500      0.503000     0.507000     1.500000  \n",
       "std       5.463955     0.426273      0.500116     0.500076     1.118314  \n",
       "min       2.000000     0.000000      0.000000     0.000000     0.000000  \n",
       "25%       6.000000     1.000000      0.000000     0.000000     0.750000  \n",
       "50%      11.000000     1.000000      1.000000     1.000000     1.500000  \n",
       "75%      16.000000     1.000000      1.000000     1.000000     2.250000  \n",
       "max      20.000000     1.000000      1.000000     1.000000     3.000000  \n",
       "\n",
       "[8 rows x 21 columns]"
      ]
     },
     "execution_count": 28,
     "metadata": {},
     "output_type": "execute_result"
    }
   ],
   "source": [
    "df.describe()"
   ]
  },
  {
   "cell_type": "markdown",
   "id": "d591de9b-902e-4489-8967-63a94e4102b2",
   "metadata": {},
   "source": [
    "**Insights:- Loading the new CSV file**"
   ]
  },
  {
   "cell_type": "markdown",
   "id": "d58520e7-950d-418c-b802-f10484604372",
   "metadata": {},
   "source": [
    "# 5). Data View"
   ]
  },
  {
   "cell_type": "code",
   "execution_count": 30,
   "id": "b5439b82-9953-43a6-8bca-37a89ef38caa",
   "metadata": {},
   "outputs": [
    {
     "name": "stdout",
     "output_type": "stream",
     "text": [
      "<class 'pandas.core.frame.DataFrame'>\n",
      "RangeIndex: 2000 entries, 0 to 1999\n",
      "Data columns (total 21 columns):\n",
      " #   Column         Non-Null Count  Dtype  \n",
      "---  ------         --------------  -----  \n",
      " 0   battery_power  2000 non-null   int64  \n",
      " 1   blue           2000 non-null   bool   \n",
      " 2   clock_speed    2000 non-null   float64\n",
      " 3   dual_sim       2000 non-null   bool   \n",
      " 4   fc             2000 non-null   int64  \n",
      " 5   four_g         2000 non-null   bool   \n",
      " 6   int_memory     2000 non-null   int64  \n",
      " 7   m_dep          2000 non-null   float64\n",
      " 8   mobile_wt      2000 non-null   int64  \n",
      " 9   n_cores        2000 non-null   int64  \n",
      " 10  pc             2000 non-null   int64  \n",
      " 11  px_height      2000 non-null   int64  \n",
      " 12  px_width       2000 non-null   int64  \n",
      " 13  ram            2000 non-null   int64  \n",
      " 14  sc_h           2000 non-null   int64  \n",
      " 15  sc_w           2000 non-null   int64  \n",
      " 16  talk_time      2000 non-null   int64  \n",
      " 17  three_g        2000 non-null   bool   \n",
      " 18  touch_screen   2000 non-null   bool   \n",
      " 19  wifi           2000 non-null   bool   \n",
      " 20  price_range    2000 non-null   object \n",
      "dtypes: bool(6), float64(2), int64(12), object(1)\n",
      "memory usage: 246.2+ KB\n",
      "None\n"
     ]
    }
   ],
   "source": [
    "# Display basic information \n",
    "print(data.info())"
   ]
  },
  {
   "cell_type": "markdown",
   "id": "3d0bbd13-4dea-4979-b4ba-3322cc338388",
   "metadata": {},
   "source": [
    "**Insights:- Displaying the basic information of the data frame**  "
   ]
  },
  {
   "cell_type": "code",
   "execution_count": 31,
   "id": "66c8c698-e1a5-4d14-b8d4-bbc9552f3281",
   "metadata": {},
   "outputs": [
    {
     "name": "stdout",
     "output_type": "stream",
     "text": [
      "   battery_power   blue  clock_speed  dual_sim  fc  four_g  int_memory  m_dep  \\\n",
      "0            842  False          2.2     False   1   False           7    0.6   \n",
      "1           1021   True          0.5      True   0    True          53    0.7   \n",
      "2            563   True          0.5      True   2    True          41    0.9   \n",
      "3            615   True          2.5     False   0   False          10    0.8   \n",
      "4           1821   True          1.2     False  13    True          44    0.6   \n",
      "\n",
      "   mobile_wt  n_cores  ...  px_height  px_width   ram  sc_h  sc_w  talk_time  \\\n",
      "0        188        2  ...         20       756  2549     9     7         19   \n",
      "1        136        3  ...        905      1988  2631    17     3          7   \n",
      "2        145        5  ...       1263      1716  2603    11     2          9   \n",
      "3        131        6  ...       1216      1786  2769    16     8         11   \n",
      "4        141        2  ...       1208      1212  1411     8     2         15   \n",
      "\n",
      "   three_g  touch_screen   wifi  price_range  \n",
      "0    False         False   True  Medium Cost  \n",
      "1     True          True  False    High Cost  \n",
      "2     True          True  False    High Cost  \n",
      "3     True         False  False    High Cost  \n",
      "4     True          True  False  Medium Cost  \n",
      "\n",
      "[5 rows x 21 columns]\n"
     ]
    }
   ],
   "source": [
    "#first few rows of the dataset\n",
    "print(data.head())"
   ]
  },
  {
   "cell_type": "markdown",
   "id": "7cd9f65e-57b8-4aac-b485-b6a75a3ca345",
   "metadata": {},
   "source": [
    "***Insights:- Displaying the first few rows of the dataset*** "
   ]
  },
  {
   "cell_type": "code",
   "execution_count": 32,
   "id": "28d57ebd-73ea-4c75-9400-5ddfdc6df431",
   "metadata": {},
   "outputs": [
    {
     "data": {
      "text/plain": [
       "Index(['battery_power', 'blue', 'clock_speed', 'dual_sim', 'fc', 'four_g',\n",
       "       'int_memory', 'm_dep', 'mobile_wt', 'n_cores', 'pc', 'px_height',\n",
       "       'px_width', 'ram', 'sc_h', 'sc_w', 'talk_time', 'three_g',\n",
       "       'touch_screen', 'wifi', 'price_range'],\n",
       "      dtype='object')"
      ]
     },
     "execution_count": 32,
     "metadata": {},
     "output_type": "execute_result"
    }
   ],
   "source": [
    "data.columns"
   ]
  },
  {
   "cell_type": "markdown",
   "id": "604e7ebe-afe6-4677-8571-62dcd1a5bf84",
   "metadata": {},
   "source": [
    "***Insights:- Displaying the column names present in the dataset.*** "
   ]
  },
  {
   "cell_type": "code",
   "execution_count": 33,
   "id": "b94fbe28-30e1-4c83-89f0-e2fddf858dfd",
   "metadata": {},
   "outputs": [
    {
     "name": "stdout",
     "output_type": "stream",
     "text": [
      "(2000, 21)\n"
     ]
    }
   ],
   "source": [
    "print(data.shape)  # Outputs: (number_of_rows, number_of_columns)"
   ]
  },
  {
   "cell_type": "markdown",
   "id": "7b1199fd-af09-4a50-b156-84602179e80a",
   "metadata": {},
   "source": [
    "***Insights:- Checking the shape of the DataFrame to understand its dimensions.***"
   ]
  },
  {
   "cell_type": "markdown",
   "id": "821c29ca-62a7-46e2-9c32-396a93c33396",
   "metadata": {},
   "source": [
    "# 6) Data Exploration\n"
   ]
  },
  {
   "cell_type": "code",
   "execution_count": 34,
   "id": "4585c237-546c-4cb2-b9f4-4314098bfbd2",
   "metadata": {},
   "outputs": [
    {
     "name": "stdout",
     "output_type": "stream",
     "text": [
      "       battery_power  clock_speed           fc   int_memory        m_dep  \\\n",
      "count    2000.000000  2000.000000  2000.000000  2000.000000  2000.000000   \n",
      "mean     1238.518500     1.522250     4.309500    32.046500     0.501750   \n",
      "std       439.418206     0.816004     4.341444    18.145715     0.288416   \n",
      "min       501.000000     0.500000     0.000000     2.000000     0.100000   \n",
      "25%       851.750000     0.700000     1.000000    16.000000     0.200000   \n",
      "50%      1226.000000     1.500000     3.000000    32.000000     0.500000   \n",
      "75%      1615.250000     2.200000     7.000000    48.000000     0.800000   \n",
      "max      1998.000000     3.000000    19.000000    64.000000     1.000000   \n",
      "\n",
      "         mobile_wt      n_cores           pc    px_height     px_width  \\\n",
      "count  2000.000000  2000.000000  2000.000000  2000.000000  2000.000000   \n",
      "mean    140.249000     4.520500     9.916500   645.108000  1251.515500   \n",
      "std      35.399655     2.287837     6.064315   443.780811   432.199447   \n",
      "min      80.000000     1.000000     0.000000     0.000000   500.000000   \n",
      "25%     109.000000     3.000000     5.000000   282.750000   874.750000   \n",
      "50%     141.000000     4.000000    10.000000   564.000000  1247.000000   \n",
      "75%     170.000000     7.000000    15.000000   947.250000  1633.000000   \n",
      "max     200.000000     8.000000    20.000000  1960.000000  1998.000000   \n",
      "\n",
      "               ram         sc_h         sc_w    talk_time  \n",
      "count  2000.000000  2000.000000  2000.000000  2000.000000  \n",
      "mean   2124.213000    12.306500     5.767000    11.011000  \n",
      "std    1084.732044     4.213245     4.356398     5.463955  \n",
      "min     256.000000     5.000000     0.000000     2.000000  \n",
      "25%    1207.500000     9.000000     2.000000     6.000000  \n",
      "50%    2146.500000    12.000000     5.000000    11.000000  \n",
      "75%    3064.500000    16.000000     9.000000    16.000000  \n",
      "max    3998.000000    19.000000    18.000000    20.000000  \n"
     ]
    }
   ],
   "source": [
    "# The describe() method is used to generate summary statistics of the data frame. \n",
    "print(data .describe())"
   ]
  },
  {
   "cell_type": "markdown",
   "id": "7edd5685-eacc-4527-a8f1-4ac1f2cc0581",
   "metadata": {},
   "source": [
    "***Insights:- This includes measures like mean, median, standard deviation, minimum and maximum values, and quartiles for numerical columns.*** "
   ]
  },
  {
   "cell_type": "markdown",
   "id": "392f3e15-2498-4251-b10a-613479c9c0a7",
   "metadata": {},
   "source": [
    "# 7)Filtering Outliers"
   ]
  },
  {
   "cell_type": "code",
   "execution_count": 36,
   "id": "74dea0aa-ff24-4809-af49-9e77086bf23d",
   "metadata": {},
   "outputs": [
    {
     "data": {
      "text/plain": [
       "array([2.2, 0.5, 2.5, 1.2, 1.7, 0.6, 2.9, 2.8, 2.1, 1. , 0.9, 1.1, 2.6,\n",
       "       1.4, 1.6, 2.7, 1.3, 2.3, 2. , 1.8, 3. , 1.5, 1.9, 2.4, 0.8, 0.7])"
      ]
     },
     "execution_count": 36,
     "metadata": {},
     "output_type": "execute_result"
    }
   ],
   "source": [
    "# Unique values\n",
    "unique_values = data['clock_speed'].unique()\n",
    "unique_values"
   ]
  },
  {
   "cell_type": "markdown",
   "id": "4282a570-50e9-44e7-95d3-757e71e65f14",
   "metadata": {},
   "source": [
    "***Insights:- Finding the unique values in the data set***"
   ]
  },
  {
   "cell_type": "code",
   "execution_count": 37,
   "id": "40d9777e-0e9b-49ad-b736-fb7a19404e74",
   "metadata": {},
   "outputs": [
    {
     "data": {
      "text/plain": [
       "np.int64(501)"
      ]
     },
     "execution_count": 37,
     "metadata": {},
     "output_type": "execute_result"
    }
   ],
   "source": [
    "# Smallest value\n",
    "smallest_battery_power = data['battery_power'].min()\n",
    "smallest_battery_power"
   ]
  },
  {
   "cell_type": "markdown",
   "id": "1679dd98-8f61-4946-9d00-4eae3d20541a",
   "metadata": {},
   "source": [
    "***Insights:- Finding the smallest value in the data set*** "
   ]
  },
  {
   "cell_type": "code",
   "execution_count": 38,
   "id": "ea6d9b60-b75d-4150-8277-639d07e31e8d",
   "metadata": {},
   "outputs": [
    {
     "data": {
      "text/plain": [
       "np.int64(1998)"
      ]
     },
     "execution_count": 38,
     "metadata": {},
     "output_type": "execute_result"
    }
   ],
   "source": [
    "# largest value\n",
    "largest_battery_power = data['battery_power'].max()\n",
    "largest_battery_power"
   ]
  },
  {
   "cell_type": "markdown",
   "id": "9d4eb814-96ba-4984-be24-b79c21c9266a",
   "metadata": {},
   "source": [
    "***Insights:- Finding the largest value in the data set***"
   ]
  },
  {
   "cell_type": "code",
   "execution_count": 39,
   "id": "a57f0368-9991-4c94-ae04-268a9438378c",
   "metadata": {},
   "outputs": [
    {
     "name": "stdout",
     "output_type": "stream",
     "text": [
      "Filtered DataFrame (battery_power > 1000):\n",
      "       battery_power   blue  clock_speed  dual_sim  fc  four_g  int_memory  \\\n",
      "1              1021   True          0.5      True   0    True          53   \n",
      "4              1821   True          1.2     False  13    True          44   \n",
      "5              1859  False          0.5      True   3   False          22   \n",
      "6              1821  False          1.7     False   4    True          10   \n",
      "7              1954  False          0.5      True   0   False          24   \n",
      "...             ...    ...          ...       ...  ..     ...         ...   \n",
      "1991           1882  False          2.0     False  11    True          44   \n",
      "1993           1467   True          0.5     False   0   False          18   \n",
      "1996           1965   True          2.6      True   0   False          39   \n",
      "1997           1911  False          0.9      True   1    True          36   \n",
      "1998           1512  False          0.9     False   4    True          46   \n",
      "\n",
      "      m_dep  mobile_wt  n_cores  ...  px_height  px_width   ram  sc_h  sc_w  \\\n",
      "1       0.7        136        3  ...        905      1988  2631    17     3   \n",
      "4       0.6        141        2  ...       1208      1212  1411     8     2   \n",
      "5       0.7        164        1  ...       1004      1654  1067    17     1   \n",
      "6       0.8        139        8  ...        381      1018  3220    13     8   \n",
      "7       0.8        187        4  ...        512      1149   700    16     3   \n",
      "...     ...        ...      ...  ...        ...       ...   ...   ...   ...   \n",
      "1991    0.8        113        8  ...          4       743  3579    19     8   \n",
      "1993    0.6        122        5  ...        888      1099  3962    15    11   \n",
      "1996    0.2        187        4  ...        915      1965  2032    11    10   \n",
      "1997    0.7        108        8  ...        868      1632  3057     9     1   \n",
      "1998    0.1        145        5  ...        336       670   869    18    10   \n",
      "\n",
      "      talk_time  three_g  touch_screen   wifi     price_range  \n",
      "1             7     True          True  False       High Cost  \n",
      "4            15     True          True  False     Medium Cost  \n",
      "5            10     True         False  False     Medium Cost  \n",
      "6            18     True         False   True  Very High Cost  \n",
      "7             5     True          True   True        low Cost  \n",
      "...         ...      ...           ...    ...             ...  \n",
      "1991         20     True          True  False  Very High Cost  \n",
      "1993          5     True          True   True  Very High Cost  \n",
      "1996         16     True          True   True       High Cost  \n",
      "1997          5     True          True  False  Very High Cost  \n",
      "1998         19     True          True   True        low Cost  \n",
      "\n",
      "[1303 rows x 21 columns]\n"
     ]
    }
   ],
   "source": [
    "# Conditional Filtering\n",
    "filtered_df =data [data['battery_power'] > 1000]\n",
    "\n",
    "# Print results\n",
    "print(\"Filtered DataFrame (battery_power > 1000):\\n\", filtered_df)\n",
    "filtered_df =data [data['battery_power'] > 1000]\n",
    "\n",
    "# Print results\n",
    "print(\"Filtered DataFrame (battery_power > 1000):\\n\", filtered_df)"
   ]
  },
  {
   "cell_type": "markdown",
   "id": "251a5758-aa58-4836-8886-cac7ab11d759",
   "metadata": {},
   "source": [
    "***Insights:- Filtering  rows where battery_power is greater than 1000***"
   ]
  },
  {
   "cell_type": "markdown",
   "id": "98650f75-fbac-4fff-876b-fe0dd19aafb0",
   "metadata": {},
   "source": [
    "# Creating a pivot table"
   ]
  },
  {
   "cell_type": "code",
   "execution_count": 41,
   "id": "3497105f-7987-452d-a816-469e8dc8e7c1",
   "metadata": {},
   "outputs": [
    {
     "name": "stdout",
     "output_type": "stream",
     "text": [
      "Pivot Table:\n",
      "                  px_height                 px_width             \n",
      "four_g               False       True         False        True \n",
      "price_range                                                     \n",
      "High Cost       621.960474  642.858300  1228.980237  1239.234818\n",
      "Medium Cost     715.865546  622.404580  1256.920168  1247.354962\n",
      "Very High Cost  757.724444  734.312727  1368.782222  1370.701818\n",
      "low Cost        529.771784  542.583012  1147.012448  1153.301158\n"
     ]
    }
   ],
   "source": [
    "# Create a pivot table\n",
    "# Example: Pivot table to find the average of 'px_height' and 'px_width' based on 'price_range' and 'four_g'\n",
    "pivot_table = pd.pivot_table(data, \n",
    "                             values=['px_height', 'px_width'],  # Columns to aggregate\n",
    "                             index=['price_range'],             # Rows (index)\n",
    "                             columns=['four_g'],                # Columns\n",
    "                             aggfunc='mean')                    # Aggregation function\n",
    "\n",
    "# Display the pivot table\n",
    "print(\"Pivot Table:\\n\", pivot_table)"
   ]
  },
  {
   "cell_type": "markdown",
   "id": "4c146ac1-0ca4-4b92-b3db-832635a657b7",
   "metadata": {},
   "source": [
    "***Insights:-  Pivot table to find the average of 'px_height' and 'px_width' based on 'price_range' and 'four_g'***"
   ]
  },
  {
   "cell_type": "markdown",
   "id": "b2672fc8-684c-4d49-b91d-07c224d48599",
   "metadata": {},
   "source": [
    "# Data Visualization"
   ]
  },
  {
   "cell_type": "code",
   "execution_count": 49,
   "id": "7884f1b8-b47c-4472-8e4b-59a2910757fe",
   "metadata": {},
   "outputs": [
    {
     "data": {
      "image/png": "[encoded data removed]",
      "text/plain": [
       "<Figure size 1500x800 with 6 Axes>"
      ]
     },
     "metadata": {},
     "output_type": "display_data"
    }
   ],
   "source": [
    "# Define categories based on the Boolean columns\n",
    "categories = ['blue', 'dual_sim', 'four_g', 'three_g', 'touch_screen', 'wifi']\n",
    "\n",
    "# Create subplots (2 rows x 3 columns)\n",
    "fig, axes = plt.subplots(nrows=2, ncols=3, figsize=(15, 8))\n",
    "axes = axes.flatten()  # Flatten the 2D array to 1D for easy iteration\n",
    "\n",
    "# Plot each Boolean column in a subplot\n",
    "for i, category in enumerate(categories):\n",
    "    ax = axes[i]\n",
    "    # Count the number of True/False values\n",
    "    data[category].value_counts().plot(kind='bar', ax=ax, color=['green', 'salmon'])\n",
    "    ax.set_title(category)\n",
    "    ax.set_xlabel('Values')\n",
    "    ax.set_ylabel('Count')\n",
    "\n",
    "# Adjust layout\n",
    "plt.tight_layout()\n",
    "plt.show()"
   ]
  },
  {
   "cell_type": "markdown",
   "id": "4d4575eb-d410-43fd-8604-77ebe2b50cac",
   "metadata": {},
   "source": [
    "***Insights:- Created bar graph for every column name*** "
   ]
  },
  {
   "cell_type": "markdown",
   "id": "0528f0e0-5c0d-47db-820d-d9f25c041969",
   "metadata": {},
   "source": [
    "# Average Clock Speed by Price Range"
   ]
  },
  {
   "cell_type": "code",
   "execution_count": 13,
   "id": "8383c3ae-59e7-45ba-bf33-313190717a5c",
   "metadata": {},
   "outputs": [
    {
     "data": {
      "image/png": "[encoded data removed]",
      "text/plain": [
       "<Figure size 1000x600 with 1 Axes>"
      ]
     },
     "metadata": {},
     "output_type": "display_data"
    }
   ],
   "source": [
    "import matplotlib.pyplot as plt\n",
    "\n",
    "# Group by 'price_range' and calculate mean for 'clock_speed'\n",
    "group_by_price_range_mean = data.groupby('price_range')['clock_speed'].mean()\n",
    "\n",
    "# Plotting\n",
    "plt.figure(figsize=(10, 6))\n",
    "group_by_price_range_mean.plot(kind='line', marker='o')\n",
    "\n",
    "plt.title('Average Clock Speed by Price Range')\n",
    "plt.xlabel('Price Range')\n",
    "plt.ylabel('Average Clock Speed')\n",
    "plt.grid(True)\n",
    "plt.show()"
   ]
  },
  {
   "cell_type": "markdown",
   "id": "56c44a0a-7b4c-4f1d-89c4-55cd1cf7c332",
   "metadata": {},
   "source": [
    "***Insights:- Group by 'price_range' and calculated mean for 'clock_speed'***\n"
   ]
  },
  {
   "cell_type": "markdown",
   "id": "d77c3d89-7248-4c97-b468-38d950123924",
   "metadata": {},
   "source": [
    "# Average Battery Power by Price Rang"
   ]
  },
  {
   "cell_type": "code",
   "execution_count": 6,
   "id": "9a9d6823-f944-4c79-9e99-a702eb25ebe3",
   "metadata": {
    "scrolled": true
   },
   "outputs": [
    {
     "data": {
      "image/png": "[encoded data removed]",
      "text/plain": [
       "<Figure size 1000x600 with 1 Axes>"
      ]
     },
     "metadata": {},
     "output_type": "display_data"
    }
   ],
   "source": [
    "import pandas as pd\n",
    "import matplotlib.pyplot as plt\n",
    "\n",
    "# Read the CSV file\n",
    "data = pd.read_csv(r\"C:\\Users\\dell\\OneDrive\\train.csv\")\n",
    "\n",
    "# Group by 'price_range' and calculate mean for 'battery_power'\n",
    "group_by_price_range_mean = data.groupby('price_range')['battery_power'].mean()\n",
    "\n",
    "# Plotting\n",
    "plt.figure(figsize=(10, 6))\n",
    "group_by_price_range_mean.plot(kind='barh', color='skyblue', edgecolor='black')\n",
    "\n",
    "plt.title('Average Battery Power by Price Range')\n",
    "plt.xlabel('Average Battery Power')\n",
    "plt.ylabel('Price Range')\n",
    "plt.grid(axis='x', linestyle='--')\n",
    "plt.show()"
   ]
  },
  {
   "cell_type": "markdown",
   "id": "fb1c9942-1f99-439f-8491-3068c404c60f",
   "metadata": {},
   "source": [
    "***Insights:-Created a bar graph for battery power by price range*** "
   ]
  },
  {
   "cell_type": "markdown",
   "id": "8ef0e045-e161-4d65-91bb-fc24e1f3f828",
   "metadata": {},
   "source": [
    "# Histogram of Battery Power "
   ]
  },
  {
   "cell_type": "code",
   "execution_count": 23,
   "id": "540c4f9a-b281-4db1-88cc-8b62b304edb6",
   "metadata": {},
   "outputs": [
    {
     "data": {
      "image/png": "[encoded data removed]",
      "text/plain": [
       "<Figure size 1000x600 with 1 Axes>"
      ]
     },
     "metadata": {},
     "output_type": "display_data"
    }
   ],
   "source": [
    "# Plot histogram for 'battery_power'\n",
    "plt.figure(figsize=(10, 6))\n",
    "plt.hist(data['battery_power'], bins=5, color='green', edgecolor='black')\n",
    "plt.title('Histogram of Battery Power')\n",
    "plt.xlabel('Battery Power')\n",
    "plt.ylabel('Frequency')\n",
    "plt.grid(True)\n",
    "plt.show()"
   ]
  },
  {
   "cell_type": "markdown",
   "id": "91ec21d7-a061-4be1-88c1-c2e7a389c987",
   "metadata": {},
   "source": [
    "***Insights:- Created a histogram for battery power***"
   ]
  },
  {
   "cell_type": "markdown",
   "id": "1a00c057-d208-43e0-a11d-b238faff320e",
   "metadata": {},
   "source": [
    "# Histogram of Clock Speed"
   ]
  },
  {
   "cell_type": "code",
   "execution_count": 18,
   "id": "ecde74da-d469-418c-a494-041868246590",
   "metadata": {},
   "outputs": [
    {
     "data": {
      "image/png": "[encoded data removed]",
      "text/plain": [
       "<Figure size 1000x600 with 1 Axes>"
      ]
     },
     "metadata": {},
     "output_type": "display_data"
    }
   ],
   "source": [
    "# Plot histogram for 'clock_speed'\n",
    "plt.figure(figsize=(10, 6))\n",
    "plt.hist(data['clock_speed'], bins=5, color='salmon', edgecolor='black')\n",
    "plt.title('Histogram of Clock Speed')\n",
    "plt.xlabel('Clock Speed')\n",
    "plt.ylabel('Frequency')\n",
    "plt.grid(True)\n",
    "plt.show()"
   ]
  },
  {
   "cell_type": "markdown",
   "id": "ef2bc6c9-65f1-46c0-a08b-2eb56940ebbc",
   "metadata": {},
   "source": [
    "***Insights:- Created a histogram for clock speed***"
   ]
  },
  {
   "cell_type": "markdown",
   "id": "af95e031-1c9a-46c0-9e17-c7bc7ac792cf",
   "metadata": {},
   "source": [
    "# Pie Chart"
   ]
  },
  {
   "cell_type": "markdown",
   "id": "0612d794-fd12-4f1e-a4e6-cdb98f275dd2",
   "metadata": {},
   "source": [
    "***Hardware component in mobile:-***"
   ]
  },
  {
   "cell_type": "code",
   "execution_count": 31,
   "id": "1d3dd355-c2ab-41b1-a421-4d10a0fde788",
   "metadata": {},
   "outputs": [
    {
     "data": {
      "image/png": "[encoded data removed]",
      "text/plain": [
       "<Figure size 800x800 with 1 Axes>"
      ]
     },
     "metadata": {},
     "output_type": "display_data"
    }
   ],
   "source": [
    "import pandas as pd\n",
    "import matplotlib.pyplot as plt\n",
    "\n",
    "# Read the CSV file\n",
    "data = pd.read_csv(r\"C:\\Users\\dell\\OneDrive\\train.csv\")\n",
    "\n",
    "# Extract and sum the data for each field\n",
    "n_cores_sum = data['n_cores'].sum()\n",
    "pc_sum = data['pc'].sum()\n",
    "int_memory_sum = data['int_memory'].sum()\n",
    "m_dep_sum = data['m_dep'].sum()\n",
    "\n",
    "# Data for pie chart\n",
    "labels = ['n_cores', 'pc', 'int_memory', 'm_dep']\n",
    "sizes = [n_cores_sum, pc_sum, int_memory_sum, m_dep_sum]\n",
    "colors = ['#ff9999', '#66b3ff', '#99ff99', '#ffcc99']\n",
    "\n",
    "# Plot the pie chart\n",
    "plt.figure(figsize=(8, 8))\n",
    "plt.pie(sizes, labels=labels, colors=colors, autopct='%0.1f%%', startangle=140)\n",
    "\n",
    "# Adding a title\n",
    "plt.title('Pie Chart of n_cores, pc, int_memory, and m_dep')\n",
    "\n",
    "# Display the plot\n",
    "plt.show()\n"
   ]
  },
  {
   "cell_type": "markdown",
   "id": "e187fdcd-6006-4113-b298-870d6d848e3b",
   "metadata": {},
   "source": [
    "***Insights:- Created a pie chart to understand the hardware components in mobile***"
   ]
  },
  {
   "cell_type": "markdown",
   "id": "b10b4357-a6ae-4b7e-ac94-b270b570acd8",
   "metadata": {},
   "source": [
    "# Histogram of Mobile Weight"
   ]
  },
  {
   "cell_type": "code",
   "execution_count": 34,
   "id": "714ea36e-cec8-4a36-9942-7b51cc4489cc",
   "metadata": {},
   "outputs": [
    {
     "data": {
      "image/png": "[encoded data removed]",
      "text/plain": [
       "<Figure size 1000x600 with 1 Axes>"
      ]
     },
     "metadata": {},
     "output_type": "display_data"
    }
   ],
   "source": [
    "import pandas as pd\n",
    "import matplotlib.pyplot as plt\n",
    "\n",
    "# Read the CSV file\n",
    "data = pd.read_csv(r\"C:\\Users\\dell\\OneDrive\\train.csv\")\n",
    "\n",
    "# Extract the data for the 'mobile_wt' field\n",
    "mobile_wt = data['mobile_wt']\n",
    "\n",
    "# Create an index for the x-axis (assuming the index represents different mobile models or samples)\n",
    "x_values = range(len(mobile_wt))\n",
    "\n",
    "# Plot the histogram\n",
    "plt.figure(figsize=(10, 6))\n",
    "plt.hist(mobile_wt, bins=10, edgecolor='black', alpha=0.7)\n",
    "\n",
    "# Adding titles and labels\n",
    "plt.title('Histogram of Mobile Weight')\n",
    "plt.xlabel('Mobile Weight')\n",
    "plt.ylabel('Frequency')\n",
    "\n",
    "# Display the plot\n",
    "plt.show()\n"
   ]
  },
  {
   "cell_type": "markdown",
   "id": "5aec28c7-5f50-48ae-ad68-ecba7df2d1c1",
   "metadata": {},
   "source": [
    "***Insights- Created a histogram for mobile weight***"
   ]
  },
  {
   "cell_type": "markdown",
   "id": "40d8d11d-377b-4c29-b384-2a7f5c3dcfd2",
   "metadata": {},
   "source": [
    "# Average RAM by Price Range"
   ]
  },
  {
   "cell_type": "code",
   "execution_count": 35,
   "id": "570daee8-57a3-4950-bd02-e74731ee7710",
   "metadata": {},
   "outputs": [
    {
     "data": {
      "image/png": "[encoded data removed]",
      "text/plain": [
       "<Figure size 1200x600 with 1 Axes>"
      ]
     },
     "metadata": {},
     "output_type": "display_data"
    }
   ],
   "source": [
    "# Aggregate RAM values based on Price Range\n",
    "aggregated_data = data.groupby('price_range')['ram'].mean()\n",
    "\n",
    "# Plot the bar chart\n",
    "plt.figure(figsize=(12, 6))\n",
    "\n",
    "# Plotting the RAM values for each Price Range\n",
    "plt.bar(aggregated_data.index, aggregated_data.values, color='b', alpha=0.7)\n",
    "\n",
    "# Adding titles and labels\n",
    "plt.title('Average RAM by Price Range')\n",
    "plt.xlabel('Price Range')\n",
    "plt.ylabel('Average RAM (in GB)')\n",
    "\n",
    "# Display the plot\n",
    "plt.show()"
   ]
  },
  {
   "cell_type": "markdown",
   "id": "3d60fbb9-0c2d-4961-9f8e-6bc5964b8f38",
   "metadata": {},
   "source": [
    "***Insights:- created a bar chart for average RAM of mobile phones***"
   ]
  },
  {
   "cell_type": "markdown",
   "id": "4dd5c6ba-3a2f-411e-b6d5-719f0e99d101",
   "metadata": {},
   "source": [
    "# How does screen resolution (px_height and px_width) vary across different price_range values?\n"
   ]
  },
  {
   "cell_type": "code",
   "execution_count": 37,
   "id": "2bd3ecae-035c-40b0-bbd5-cfd93b54e465",
   "metadata": {},
   "outputs": [
    {
     "data": {
      "image/png": "[encoded data removed]",
      "text/plain": [
       "<Figure size 1000x600 with 1 Axes>"
      ]
     },
     "metadata": {},
     "output_type": "display_data"
    }
   ],
   "source": [
    "import pandas as pd\n",
    "import matplotlib.pyplot as plt\n",
    "\n",
    "# Read the CSV file\n",
    "data = pd.read_csv(r\"C:\\Users\\dell\\OneDrive\\train.csv\")\n",
    "\n",
    "# Group data by price_range and calculate the mean px_height and px_width\n",
    "resolution_by_price = data.groupby('price_range')[['px_height', 'px_width']].mean()\n",
    "\n",
    "# Plotting the bar chart\n",
    "resolution_by_price.plot(kind='bar', figsize=(10, 6))\n",
    "plt.title('Average Screen Resolution by Price Range')\n",
    "plt.xlabel('Price Range')\n",
    "plt.ylabel('Average Resolution')\n",
    "plt.xticks(rotation=0)\n",
    "plt.show()\n"
   ]
  },
  {
   "cell_type": "markdown",
   "id": "7f42c650-b97e-47a0-a709-b8fd86def279",
   "metadata": {},
   "source": [
    "***Insights:- Creating a  graph for the width and height of the mobile phone*** "
   ]
  },
  {
   "cell_type": "markdown",
   "id": "1542aee4-0ce7-4d2b-8d2a-3d3d41ad84b0",
   "metadata": {},
   "source": [
    "# CONCLUSION"
   ]
  },
  {
   "cell_type": "markdown",
   "id": "74888484-cd91-4b01-abbb-d49744b06cd6",
   "metadata": {},
   "source": [
    "***The dataset provides a comprehensive overview of various mobile phone specifications, allowing analysis of how features like battery power, RAM, \n",
    "and camera quality vary across different price ranges. \n",
    "This data is useful for identifying trends and making informed decisions when comparing mobile phones within specific price segments.***"
   ]
  },
  {
   "cell_type": "markdown",
   "id": "2e56234f-a64b-4bda-9a3c-319a5cee2350",
   "metadata": {},
   "source": [
    "# RECOMMADATIONS "
   ]
  },
  {
   "cell_type": "markdown",
   "id": "585dfcb2-236a-40b0-9e0e-eaa22f5303bc",
   "metadata": {},
   "source": [
    "This dataset is valuable for:\n",
    "\n",
    "Market Analysis: Understanding the distribution of features in different price categories.\n",
    "    \n",
    "Consumer Guidance: Assisting potential buyers in comparing models based on their preferences and budget.\n",
    "\n",
    "Product Development: Helping manufacturers identify gaps in the market and innovate accordingly."
   ]
  },
  {
   "cell_type": "code",
   "execution_count": null,
   "id": "fc66df12-8ce8-4e40-9128-bdfcb36afa3d",
   "metadata": {},
   "outputs": [],
   "source": []
  }
 ],
 "metadata": {
  "kernelspec": {
   "display_name": "Python 3 (ipykernel)",
   "language": "python",
   "name": "python3"
  },
  "language_info": {
   "codemirror_mode": {
    "name": "ipython",
    "version": 3
   },
   "file_extension": ".py",
   "mimetype": "text/x-python",
   "name": "python",
   "nbconvert_exporter": "python",
   "pygments_lexer": "ipython3",
   "version": "3.11.3"
  }
 },
 "nbformat": 4,
 "nbformat_minor": 5
}
